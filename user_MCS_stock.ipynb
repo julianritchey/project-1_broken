{
 "cells": [
  {
   "cell_type": "code",
   "execution_count": 1,
   "id": "ca6ed6f2-4e76-4d1d-94cc-20ca1d5decc6",
   "metadata": {},
   "outputs": [
    {
     "name": "stdout",
     "output_type": "stream",
     "text": [
      "[*********************100%***********************]  1 of 1 completed\n",
      "Running Monte Carlo simulation number 0.\n",
      "Running Monte Carlo simulation number 10.\n",
      "Running Monte Carlo simulation number 20.\n",
      "Running Monte Carlo simulation number 30.\n",
      "Running Monte Carlo simulation number 40.\n",
      "Running Monte Carlo simulation number 50.\n",
      "Running Monte Carlo simulation number 60.\n",
      "Running Monte Carlo simulation number 70.\n",
      "Running Monte Carlo simulation number 80.\n",
      "Running Monte Carlo simulation number 90.\n",
      "Running Monte Carlo simulation number 100.\n",
      "Running Monte Carlo simulation number 110.\n"
     ]
    },
    {
     "name": "stderr",
     "output_type": "stream",
     "text": [
      "/Users/vickygao/Desktop/project-1/MCForecastTools.py:117: PerformanceWarning: DataFrame is highly fragmented.  This is usually the result of calling `frame.insert` many times, which has poor performance.  Consider joining all columns at once using pd.concat(axis=1) instead.  To get a de-fragmented frame, use `newframe = frame.copy()`\n",
      "  portfolio_cumulative_returns[n] = (1 + sim_df.fillna(0)).cumprod()\n"
     ]
    },
    {
     "name": "stdout",
     "output_type": "stream",
     "text": [
      "Running Monte Carlo simulation number 120.\n",
      "Running Monte Carlo simulation number 130.\n",
      "Running Monte Carlo simulation number 140.\n",
      "Running Monte Carlo simulation number 150.\n",
      "Running Monte Carlo simulation number 160.\n",
      "Running Monte Carlo simulation number 170.\n",
      "Running Monte Carlo simulation number 180.\n",
      "Running Monte Carlo simulation number 190.\n",
      "Running Monte Carlo simulation number 200.\n",
      "Running Monte Carlo simulation number 210.\n",
      "Running Monte Carlo simulation number 220.\n",
      "Running Monte Carlo simulation number 230.\n",
      "Running Monte Carlo simulation number 240.\n",
      "Running Monte Carlo simulation number 250.\n",
      "Running Monte Carlo simulation number 260.\n",
      "Running Monte Carlo simulation number 270.\n",
      "Running Monte Carlo simulation number 280.\n",
      "Running Monte Carlo simulation number 290.\n",
      "Running Monte Carlo simulation number 300.\n",
      "Running Monte Carlo simulation number 310.\n",
      "Running Monte Carlo simulation number 320.\n",
      "Running Monte Carlo simulation number 330.\n",
      "Running Monte Carlo simulation number 340.\n",
      "Running Monte Carlo simulation number 350.\n",
      "Running Monte Carlo simulation number 360.\n",
      "Running Monte Carlo simulation number 370.\n",
      "Running Monte Carlo simulation number 380.\n",
      "Running Monte Carlo simulation number 390.\n",
      "Running Monte Carlo simulation number 400.\n",
      "Running Monte Carlo simulation number 410.\n",
      "Running Monte Carlo simulation number 420.\n",
      "Running Monte Carlo simulation number 430.\n",
      "Running Monte Carlo simulation number 440.\n",
      "Running Monte Carlo simulation number 450.\n",
      "Running Monte Carlo simulation number 460.\n",
      "Running Monte Carlo simulation number 470.\n",
      "Running Monte Carlo simulation number 480.\n",
      "Running Monte Carlo simulation number 490.\n",
      "--------------summarize statistics----------------\n",
      "count           500.000000\n",
      "mean              4.471672\n",
      "std               3.257135\n",
      "min               0.306210\n",
      "25%               2.395518\n",
      "50%               3.739708\n",
      "75%               5.380370\n",
      "max              34.652264\n",
      "95% CI Lower      1.110897\n",
      "95% CI Upper     12.521688\n",
      "Name: 756, dtype: float64\n",
      "--------------------------------------------------\n",
      "There is a 95% chance that an initial investment of $10,000 in the stock over the next 3 years will end within in the range of $11108.97 and $125216.88\n"
     ]
    }
   ],
   "source": [
    "from MCForecast_stock import run_monte_carlo_simulation\n",
    "\n",
    "symbol = \"AAPL\"\n",
    "start_date = '2020-01-01'\n",
    "end_date = '2022-01-01'\n",
    "num_sims = 500\n",
    "num_years = 3\n",
    "\n",
    "result = run_monte_carlo_simulation(symbol,\n",
    "                                    start_date, \n",
    "                                    end_date, \n",
    "                                    num_sims=num_sims, \n",
    "                                    num_years=num_years)\n",
    "\n",
    "print(\"--------------summarize statistics----------------\")\n",
    "\n",
    "print(result[\"summary_statistics\"])\n",
    "print(\"--------------------------------------------------\")\n",
    "print(f\"There is a 95% chance that an initial investment of $10,000 in the stock\"\n",
    "      f\" over the next 3 years will end within in the range of\"\n",
    "      f\" ${result['confidence_interval'][0]} and ${result['confidence_interval'][1]}\")\n"
   ]
  },
  {
   "cell_type": "code",
   "execution_count": null,
   "id": "9518aa1a-9659-4590-8fc3-70427b4b1702",
   "metadata": {},
   "outputs": [],
   "source": []
  }
 ],
 "metadata": {
  "kernelspec": {
   "display_name": "Python 3 (ipykernel)",
   "language": "python",
   "name": "python3"
  },
  "language_info": {
   "codemirror_mode": {
    "name": "ipython",
    "version": 3
   },
   "file_extension": ".py",
   "mimetype": "text/x-python",
   "name": "python",
   "nbconvert_exporter": "python",
   "pygments_lexer": "ipython3",
   "version": "3.7.13"
  }
 },
 "nbformat": 4,
 "nbformat_minor": 5
}
