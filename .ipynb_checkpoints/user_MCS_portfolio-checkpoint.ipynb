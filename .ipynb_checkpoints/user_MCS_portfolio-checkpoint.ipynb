{
 "cells": [
  {
   "cell_type": "code",
   "execution_count": 1,
   "id": "6e523957-591b-4c3e-b181-7037069cd5b5",
   "metadata": {},
   "outputs": [
    {
     "ename": "NameError",
     "evalue": "name 'num_simulation' is not defined",
     "output_type": "error",
     "traceback": [
      "\u001b[0;31m---------------------------------------------------------------------------\u001b[0m",
      "\u001b[0;31mNameError\u001b[0m                                 Traceback (most recent call last)",
      "\u001b[0;32m/var/folders/hg/hhk68w4x1plf5y9mqlscnt780000gn/T/ipykernel_11790/1860320429.py\u001b[0m in \u001b[0;36m<module>\u001b[0;34m\u001b[0m\n\u001b[1;32m      8\u001b[0m     \u001b[0mend_date\u001b[0m\u001b[0;34m=\u001b[0m\u001b[0;34m\"2020-05-01\"\u001b[0m\u001b[0;34m,\u001b[0m\u001b[0;34m\u001b[0m\u001b[0;34m\u001b[0m\u001b[0m\n\u001b[1;32m      9\u001b[0m     \u001b[0mweights\u001b[0m\u001b[0;34m=\u001b[0m\u001b[0;34m[\u001b[0m\u001b[0;36m0.6\u001b[0m\u001b[0;34m,\u001b[0m \u001b[0;36m0.4\u001b[0m\u001b[0;34m]\u001b[0m\u001b[0;34m,\u001b[0m\u001b[0;34m\u001b[0m\u001b[0;34m\u001b[0m\u001b[0m\n\u001b[0;32m---> 10\u001b[0;31m     \u001b[0mnum_simulation\u001b[0m\u001b[0;34m=\u001b[0m\u001b[0mnum_simulation\u001b[0m\u001b[0;34m,\u001b[0m\u001b[0;34m\u001b[0m\u001b[0;34m\u001b[0m\u001b[0m\n\u001b[0m\u001b[1;32m     11\u001b[0m     \u001b[0mnum_years\u001b[0m\u001b[0;34m=\u001b[0m\u001b[0mnum_years\u001b[0m\u001b[0;34m\u001b[0m\u001b[0;34m\u001b[0m\u001b[0m\n\u001b[1;32m     12\u001b[0m )\n",
      "\u001b[0;31mNameError\u001b[0m: name 'num_simulation' is not defined"
     ]
    }
   ],
   "source": [
    "from MCForecast_portfolio import run_monte_carlo_simulation\n",
    "\n",
    "result = run_monte_carlo_simulation(\n",
    "    api_key=\"ALPACA_API_KEY\", \n",
    "    secret_key=\"ALPACA_SECRET_KEY\",\n",
    "    tickers=[\"MSFT\", \"AAPL\"],\n",
    "    start_date=\"2017-05-01\",\n",
    "    end_date=\"2020-05-01\",\n",
    "    weights=[0.6, 0.4],\n",
    "    num_simulation=300,\n",
    "    num_years=5\n",
    ")\n",
    "\n",
    "print(\"--------------summarize statistics----------------\")\n",
    "\n",
    "print(result[\"summary_statistics\"])\n",
    "print(\"--------------------------------------------------\")\n",
    "print(f\"There is a 95% chance that an initial investment of $10,000 in the stock\"\n",
    "      f\" over the next 3 years will end within in the range of\"\n",
    "      f\" ${result['confidence_interval'][0]} and ${result['confidence_interval'][1]}\")\n"
   ]
  },
  {
   "cell_type": "code",
   "execution_count": null,
   "id": "de0d3e2e-2727-4d94-a3fc-b9d339e53d39",
   "metadata": {},
   "outputs": [],
   "source": []
  }
 ],
 "metadata": {
  "kernelspec": {
   "display_name": "Python 3 (ipykernel)",
   "language": "python",
   "name": "python3"
  },
  "language_info": {
   "codemirror_mode": {
    "name": "ipython",
    "version": 3
   },
   "file_extension": ".py",
   "mimetype": "text/x-python",
   "name": "python",
   "nbconvert_exporter": "python",
   "pygments_lexer": "ipython3",
   "version": "3.7.13"
  }
 },
 "nbformat": 4,
 "nbformat_minor": 5
}
