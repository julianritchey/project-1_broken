{
 "cells": [
  {
   "cell_type": "code",
   "execution_count": 3,
   "id": "e8d9e773-6864-4f2b-852c-b46a8564f1ed",
   "metadata": {},
   "outputs": [],
   "source": [
    "import datetime\n",
    "import time\n",
    "import base64\n",
    "import hmac\n",
    "import hashlib\n",
    "import requests\n",
    "import json\n",
    "import pandas as pd\n",
    "from dotenv import load_dotenv\n",
    "import os\n",
    "%matplotlib inline\n",
    "import warnings"
   ]
  },
  {
   "cell_type": "code",
   "execution_count": 6,
   "id": "fd891f2d-32dd-46fd-9cfe-ae84635a742b",
   "metadata": {},
   "outputs": [
    {
     "data": {
      "text/plain": [
       "True"
      ]
     },
     "execution_count": 6,
     "metadata": {},
     "output_type": "execute_result"
    }
   ],
   "source": [
    "dotenv_path = 'C:/Desktop/my_gitrepos/project-1/Resources/coin.env'\n",
    "load_dotenv(dotenv_path)"
   ]
  },
  {
   "cell_type": "code",
   "execution_count": 7,
   "id": "88ed8df2-4ddf-4e6f-bb47-d92688d7f255",
   "metadata": {},
   "outputs": [],
   "source": [
    "api_key = os.getenv('COIN_api_key')"
   ]
  },
  {
   "cell_type": "code",
   "execution_count": 4,
   "id": "a33176e1-d3cd-4086-b80b-f402c987ce67",
   "metadata": {},
   "outputs": [],
   "source": [
    "url = 'https://rest.coinapi.io/v1/ohlcv/BITSTAMP_SPOT_MATIC_USD/history?period_id=1MIN&time_start=2016-01-01T00:00:00'\n",
    "headers = {'coin_api_key' : 'api_key'}\n",
    "response = requests.get(url, headers=headers)"
   ]
  },
  {
   "cell_type": "code",
   "execution_count": null,
   "id": "38d7023a-21d2-455c-a43c-1fcbc732cd6a",
   "metadata": {},
   "outputs": [],
   "source": []
  },
  {
   "cell_type": "code",
   "execution_count": null,
   "id": "060826d4-c89e-495d-a7d7-5d0077744e3e",
   "metadata": {},
   "outputs": [],
   "source": []
  },
  {
   "cell_type": "code",
   "execution_count": null,
   "id": "8917f111-2c5b-4caf-85a5-1564d436eb49",
   "metadata": {},
   "outputs": [],
   "source": [
    "url = 'https://rest.coinapi.io/v1/ohlcv/BITSTAMP_SPOT_SOL_USD/history?period_id=1MIN&time_start=2016-01-01T00:00:00'\n",
    "headers = {'coin_api_key' : 'api_key'}\n",
    "response = requests.get(url, headers=headers)"
   ]
  },
  {
   "cell_type": "code",
   "execution_count": null,
   "id": "e9a23dd4-a1aa-4a7a-806a-d582937ca4f0",
   "metadata": {},
   "outputs": [],
   "source": []
  },
  {
   "cell_type": "code",
   "execution_count": null,
   "id": "63401c55-4072-47fc-a36d-31228bb9c7da",
   "metadata": {},
   "outputs": [],
   "source": []
  },
  {
   "cell_type": "code",
   "execution_count": null,
   "id": "466da054-a524-4d3c-a117-6af49d07d86f",
   "metadata": {},
   "outputs": [],
   "source": [
    "url = 'https://rest.coinapi.io/v1/ohlcv/BITSTAMP_SPOT_MATIC_USD/history?period_id=1MIN&time_start=2016-01-01T00:00:00'\n",
    "headers = {'coin_api_key' : 'api_key'}\n",
    "response = requests.get(url, headers=headers)"
   ]
  },
  {
   "cell_type": "code",
   "execution_count": null,
   "id": "dcb891f1-7f61-44cb-afd5-34bd36126580",
   "metadata": {},
   "outputs": [],
   "source": []
  },
  {
   "cell_type": "code",
   "execution_count": null,
   "id": "108c8590-4c1e-4994-ac07-974e47064879",
   "metadata": {},
   "outputs": [],
   "source": []
  }
 ],
 "metadata": {
  "kernelspec": {
   "display_name": "Python 3 (ipykernel)",
   "language": "python",
   "name": "python3"
  },
  "language_info": {
   "codemirror_mode": {
    "name": "ipython",
    "version": 3
   },
   "file_extension": ".py",
   "mimetype": "text/x-python",
   "name": "python",
   "nbconvert_exporter": "python",
   "pygments_lexer": "ipython3",
   "version": "3.9.16"
  }
 },
 "nbformat": 4,
 "nbformat_minor": 5
}
