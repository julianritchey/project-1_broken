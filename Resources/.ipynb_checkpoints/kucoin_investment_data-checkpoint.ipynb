{
 "cells": [
  {
   "cell_type": "code",
   "execution_count": 1,
   "id": "e3d98f36-b4ec-4339-ab7a-e6b7a4739691",
   "metadata": {},
   "outputs": [],
   "source": [
    "### Investment data\n",
    "#Real investment kucoin investment data \n",
    "#Initialize investments.ipynb file in Resources folder.\n",
    "# Prepare API calls for investment data collection.\n",
    "# Pull investment data from first exchange.\n",
    "# Organize investment data.\n",
    "# Pull investment data from remaining exchanges.\n",
    "# Organize investment data from remaining exchanges"
   ]
  },
  {
   "cell_type": "code",
   "execution_count": 2,
   "id": "1031e51b-f0b9-4092-8d3a-eb2e1c6aafa9",
   "metadata": {},
   "outputs": [],
   "source": [
    "## Defining functions for investment data in Kucoin exchange\n",
    "\n",
    "# get_headers(url): returns the headers needed for API authentication and authorization.\n",
    "# get_account_data(url='/api/v1/accounts'): retrieves account data for a user.\n",
    "# get_investment_data(url='/api/v1/accounts'): retrieves investment data for a user, specifically trade balances.\n",
    "# get_all_tickers(url='/api/v1/symbols'): retrieves a list of all available trading pairs on the exchange.\n",
    "# get_tickers(url='/api/v1/market/allTickers'): retrieves the ticker data for all trading pairs on the exchange.\n",
    "# get_all_tickers: retrieves a list of all available trading pairs (tickers) on KuCoin.\n",
    "# get_tickers: retrieves ticker information for all trading pairs on KuCoin.\n",
    "# get_open_orders: retrieves a list of all currently open orders for a given trading pair on KuCoin.\n",
    "# get_order_history: retrieves a list of all completed orders for a given trading pair on KuCoin.\n",
    "# get_trade_history: retrieves a list of all trades (fills) for a given trading pair on KuCoin.\n",
    "# place_order: places a limit order for a given trading pair on KuCoin.\n",
    "# cancel_order: cancels an order with the given ID for a given trading pair on KuCoin.\n",
    "# get_balance: retrieves the balance of a given currency in the user's KuCoin account.\n",
    "# get_all_balances: retrieves the balance of all currencies in the user's KuCoin account.\n",
    "# get_investment_data: retrieves investment data for the user, including currency, balance, and purchase price\n",
    "# get_all_tickers: retrieves ticker data for all available currencies\n",
    "# get_total_profit_loss: calculates the total profit or loss for the user's investments\n",
    "# get_currency_holdings: retrieves the user's holdings for a specific currency\n",
    "# get_exchange_balances: calculates the user's balances in USD for all currencies available on the exchange\n",
    "# get_latest_price: retrieves the latest price for a specific currency\n",
    "# get_price_history: retrieves the price history for a specific currency over a specified time period"
   ]
  },
  {
   "cell_type": "code",
   "execution_count": 11,
   "id": "f7d756bd-433f-476a-b33c-e131df2ce035",
   "metadata": {},
   "outputs": [],
   "source": [
    "import datetime\n",
    "import time\n",
    "import base64\n",
    "import hmac\n",
    "import hashlib\n",
    "import requests\n",
    "import json\n",
    "import pandas as pd\n",
    "from dotenv import load_dotenv\n",
    "import os\n",
    "\n",
    "# Now you should be able to import the pyfolio module\n",
    "import pyfolio as pf\n",
    "%matplotlib inline\n",
    "\n",
    "# silence warnings\n",
    "import warnings\n",
    "warnings.filterwarnings('ignore')"
   ]
  },
  {
   "cell_type": "code",
   "execution_count": 12,
   "id": "d62b3ebe-e20b-469b-aa49-471c4a437d7d",
   "metadata": {},
   "outputs": [
    {
     "data": {
      "text/plain": [
       "True"
      ]
     },
     "execution_count": 12,
     "metadata": {},
     "output_type": "execute_result"
    }
   ],
   "source": [
    "dotenv_path = 'C:/Desktop/my_gitrepos/project-1/Resources/kucoin.env'\n",
    "load_dotenv(dotenv_path)"
   ]
  },
  {
   "cell_type": "code",
   "execution_count": 13,
   "id": "6866ec71-ea12-4df7-9990-13e43ea0d04f",
   "metadata": {},
   "outputs": [],
   "source": [
    "api_key = os.getenv('KUCOIN_api_key')\n",
    "api_secret = os.getenv('KUCOIN_api_secret')\n",
    "api_passphrase = os.getenv('KUCOIN_api_passphrase')"
   ]
  },
  {
   "cell_type": "code",
   "execution_count": 14,
   "id": "9196d77e-4fa8-4484-a3a6-b73409754e23",
   "metadata": {},
   "outputs": [],
   "source": [
    "def get_headers(url, method):\n",
    "    now = int(time.time() * 1000)\n",
    "    str_to_sign = str(now) + method + url\n",
    "    signature = base64.b64encode(\n",
    "        hmac.new(api_secret.encode('utf-8'), str_to_sign.encode('utf-8'), hashlib.sha256).digest())\n",
    "    passphrase = base64.b64encode(\n",
    "        hmac.new(api_secret.encode('utf-8'), api_passphrase.encode('utf-8'), hashlib.sha256).digest())\n",
    "    headers = {\n",
    "        \"KC-API-SIGN\": signature,\n",
    "        \"KC-API-TIMESTAMP\": str(now),\n",
    "        \"KC-API-KEY\": api_key,\n",
    "        \"KC-API-PASSPHRASE\": passphrase,\n",
    "        \"KC-API-KEY-VERSION\": \"2\"\n",
    "    }\n",
    "    return headers\n",
    "\n",
    "def get_account_balance():\n",
    "    url = '/api/v1/accounts'\n",
    "    headers = get_headers(url, 'GET')\n",
    "    response = requests.get('https://api.kucoin.com' + url, headers=headers)\n",
    "    if response.status_code == 200:\n",
    "        balances = response.json()['data']\n",
    "        return balances\n",
    "    else:\n",
    "        print('Failed to get account balances. Error code:', response.status_code)\n",
    "        return None"
   ]
  },
  {
   "cell_type": "code",
   "execution_count": 52,
   "id": "a83845c4-fbc5-4451-b2f4-3ba2ef9712cd",
   "metadata": {},
   "outputs": [],
   "source": [
    "#get_account_balance()"
   ]
  },
  {
   "cell_type": "code",
   "execution_count": 16,
   "id": "c27a5a36-55d7-4576-b029-9bcb0a3e472f",
   "metadata": {},
   "outputs": [
    {
     "data": {
      "text/html": [
       "<div>\n",
       "<style scoped>\n",
       "    .dataframe tbody tr th:only-of-type {\n",
       "        vertical-align: middle;\n",
       "    }\n",
       "\n",
       "    .dataframe tbody tr th {\n",
       "        vertical-align: top;\n",
       "    }\n",
       "\n",
       "    .dataframe thead th {\n",
       "        text-align: right;\n",
       "    }\n",
       "</style>\n",
       "<table border=\"1\" class=\"dataframe\">\n",
       "  <thead>\n",
       "    <tr style=\"text-align: right;\">\n",
       "      <th></th>\n",
       "      <th>currency</th>\n",
       "      <th>balance</th>\n",
       "      <th>available</th>\n",
       "      <th>holds</th>\n",
       "    </tr>\n",
       "  </thead>\n",
       "  <tbody>\n",
       "    <tr>\n",
       "      <th>0</th>\n",
       "      <td>ROUTE</td>\n",
       "      <td>3729.2422</td>\n",
       "      <td>3729.2422</td>\n",
       "      <td>0</td>\n",
       "    </tr>\n",
       "    <tr>\n",
       "      <th>1</th>\n",
       "      <td>ATOM</td>\n",
       "      <td>50</td>\n",
       "      <td>50</td>\n",
       "      <td>0</td>\n",
       "    </tr>\n",
       "    <tr>\n",
       "      <th>2</th>\n",
       "      <td>API3</td>\n",
       "      <td>235</td>\n",
       "      <td>235</td>\n",
       "      <td>0</td>\n",
       "    </tr>\n",
       "    <tr>\n",
       "      <th>3</th>\n",
       "      <td>KNC</td>\n",
       "      <td>142.316</td>\n",
       "      <td>142.316</td>\n",
       "      <td>0</td>\n",
       "    </tr>\n",
       "    <tr>\n",
       "      <th>4</th>\n",
       "      <td>USDT</td>\n",
       "      <td>0.00007904</td>\n",
       "      <td>0.00007904</td>\n",
       "      <td>0</td>\n",
       "    </tr>\n",
       "  </tbody>\n",
       "</table>\n",
       "</div>"
      ],
      "text/plain": [
       "  currency     balance   available holds\n",
       "0    ROUTE   3729.2422   3729.2422     0\n",
       "1     ATOM          50          50     0\n",
       "2     API3         235         235     0\n",
       "3      KNC     142.316     142.316     0\n",
       "4     USDT  0.00007904  0.00007904     0"
      ]
     },
     "execution_count": 16,
     "metadata": {},
     "output_type": "execute_result"
    }
   ],
   "source": [
    "balances = get_account_balance()\n",
    "df = pd.DataFrame(balances)\n",
    "account_data= df[['currency', 'balance', 'available','holds']]\n",
    "account_data.head()"
   ]
  },
  {
   "cell_type": "code",
   "execution_count": 17,
   "id": "d998ee31-ee42-41b6-92bd-dc0e2af55f68",
   "metadata": {},
   "outputs": [
    {
     "data": {
      "text/html": [
       "<div>\n",
       "<style scoped>\n",
       "    .dataframe tbody tr th:only-of-type {\n",
       "        vertical-align: middle;\n",
       "    }\n",
       "\n",
       "    .dataframe tbody tr th {\n",
       "        vertical-align: top;\n",
       "    }\n",
       "\n",
       "    .dataframe thead th {\n",
       "        text-align: right;\n",
       "    }\n",
       "</style>\n",
       "<table border=\"1\" class=\"dataframe\">\n",
       "  <thead>\n",
       "    <tr style=\"text-align: right;\">\n",
       "      <th></th>\n",
       "      <th>currency</th>\n",
       "      <th>balance</th>\n",
       "      <th>available</th>\n",
       "      <th>holds</th>\n",
       "    </tr>\n",
       "  </thead>\n",
       "  <tbody>\n",
       "    <tr>\n",
       "      <th>0</th>\n",
       "      <td>ROUTE</td>\n",
       "      <td>3729.2422</td>\n",
       "      <td>3729.2422</td>\n",
       "      <td>0</td>\n",
       "    </tr>\n",
       "    <tr>\n",
       "      <th>1</th>\n",
       "      <td>ATOM</td>\n",
       "      <td>50</td>\n",
       "      <td>50</td>\n",
       "      <td>0</td>\n",
       "    </tr>\n",
       "    <tr>\n",
       "      <th>2</th>\n",
       "      <td>API3</td>\n",
       "      <td>235</td>\n",
       "      <td>235</td>\n",
       "      <td>0</td>\n",
       "    </tr>\n",
       "    <tr>\n",
       "      <th>3</th>\n",
       "      <td>KNC</td>\n",
       "      <td>142.316</td>\n",
       "      <td>142.316</td>\n",
       "      <td>0</td>\n",
       "    </tr>\n",
       "    <tr>\n",
       "      <th>4</th>\n",
       "      <td>USDT</td>\n",
       "      <td>0.00007904</td>\n",
       "      <td>0.00007904</td>\n",
       "      <td>0</td>\n",
       "    </tr>\n",
       "  </tbody>\n",
       "</table>\n",
       "</div>"
      ],
      "text/plain": [
       "  currency     balance   available holds\n",
       "0    ROUTE   3729.2422   3729.2422     0\n",
       "1     ATOM          50          50     0\n",
       "2     API3         235         235     0\n",
       "3      KNC     142.316     142.316     0\n",
       "4     USDT  0.00007904  0.00007904     0"
      ]
     },
     "execution_count": 17,
     "metadata": {},
     "output_type": "execute_result"
    }
   ],
   "source": [
    "account_data.head()"
   ]
  },
  {
   "cell_type": "code",
   "execution_count": 18,
   "id": "41ed171b-8c08-4827-a4a2-02171828810f",
   "metadata": {},
   "outputs": [],
   "source": [
    "def get_ticker(symbol):\n",
    "    url = f'/api/v1/market/orderbook/level1?symbol={symbol}'\n",
    "    headers = get_headers(url, 'GET')\n",
    "    response = requests.get('https://api.kucoin.com' + url, headers=headers)\n",
    "    if response.status_code == 200:\n",
    "        ticker_data = response.json()\n",
    "        return ticker_data['data']\n",
    "    else:\n",
    "        print('Failed to get ticker data for symbol', symbol, '. Error code:', response.status_code)\n",
    "        return None"
   ]
  },
  {
   "cell_type": "code",
   "execution_count": 19,
   "id": "fbc4ad57-9f9a-4d8f-ac00-11bd58598ebf",
   "metadata": {},
   "outputs": [
    {
     "data": {
      "text/plain": [
       "{'time': 1681940722827,\n",
       " 'sequence': '167474736',\n",
       " 'price': '0.7159',\n",
       " 'size': '3.3137',\n",
       " 'bestBid': '0.7167',\n",
       " 'bestBidSize': '341.5748',\n",
       " 'bestAsk': '0.7174',\n",
       " 'bestAskSize': '380.6784'}"
      ]
     },
     "execution_count": 19,
     "metadata": {},
     "output_type": "execute_result"
    }
   ],
   "source": [
    "get_ticker('KNC-USDT')"
   ]
  },
  {
   "cell_type": "code",
   "execution_count": 20,
   "id": "94ebdd95-603d-4178-804b-696f6c5a2286",
   "metadata": {},
   "outputs": [],
   "source": [
    "def get_all_tickers():\n",
    "    url = '/api/v1/market/allTickers'\n",
    "    headers = get_headers(url, 'GET')\n",
    "    response = requests.get('https://api.kucoin.com' + url, headers=headers)\n",
    "    if response.status_code == 200:\n",
    "        ticker_data = json.loads(response.text)\n",
    "        return ticker_data\n",
    "    else:\n",
    "        print('Failed to get ticker data. Error code:', response.status_code)"
   ]
  },
  {
   "cell_type": "code",
   "execution_count": 53,
   "id": "234f36cf-980d-49f3-8836-9f2e5b872be5",
   "metadata": {},
   "outputs": [],
   "source": [
    "#get_all_tickers()"
   ]
  },
  {
   "cell_type": "code",
   "execution_count": 54,
   "id": "0b6118d9-d95c-4baf-8088-baec53afb45a",
   "metadata": {},
   "outputs": [],
   "source": [
    "def get_symbols():\n",
    "    url = '/api/v2/symbols'\n",
    "    headers = get_headers(url, 'GET')\n",
    "    response = requests.request('get', 'https://api.kucoin.com'+url, headers=headers)\n",
    "    if response.status_code == 200:\n",
    "        symbols_data = response.json()['data']\n",
    "        symbols_df = pd.DataFrame(symbols_data)\n",
    "        return symbols_df\n",
    "    else:\n",
    "        print('Failed to get symbols data. Error code:', response.status_code)       "
   ]
  },
  {
   "cell_type": "code",
   "execution_count": 55,
   "id": "46e16b6e-7e2e-44b3-b1cc-e35b53f7e523",
   "metadata": {},
   "outputs": [
    {
     "data": {
      "text/html": [
       "<div>\n",
       "<style scoped>\n",
       "    .dataframe tbody tr th:only-of-type {\n",
       "        vertical-align: middle;\n",
       "    }\n",
       "\n",
       "    .dataframe tbody tr th {\n",
       "        vertical-align: top;\n",
       "    }\n",
       "\n",
       "    .dataframe thead th {\n",
       "        text-align: right;\n",
       "    }\n",
       "</style>\n",
       "<table border=\"1\" class=\"dataframe\">\n",
       "  <thead>\n",
       "    <tr style=\"text-align: right;\">\n",
       "      <th></th>\n",
       "      <th>symbol</th>\n",
       "      <th>name</th>\n",
       "      <th>baseCurrency</th>\n",
       "      <th>quoteCurrency</th>\n",
       "      <th>feeCurrency</th>\n",
       "      <th>market</th>\n",
       "      <th>baseMinSize</th>\n",
       "      <th>quoteMinSize</th>\n",
       "      <th>baseMaxSize</th>\n",
       "      <th>quoteMaxSize</th>\n",
       "      <th>baseIncrement</th>\n",
       "      <th>quoteIncrement</th>\n",
       "      <th>priceIncrement</th>\n",
       "      <th>priceLimitRate</th>\n",
       "      <th>minFunds</th>\n",
       "      <th>isMarginEnabled</th>\n",
       "      <th>enableTrading</th>\n",
       "    </tr>\n",
       "  </thead>\n",
       "  <tbody>\n",
       "    <tr>\n",
       "      <th>0</th>\n",
       "      <td>LOKI-BTC</td>\n",
       "      <td>OXEN-BTC</td>\n",
       "      <td>LOKI</td>\n",
       "      <td>BTC</td>\n",
       "      <td>BTC</td>\n",
       "      <td>BTC</td>\n",
       "      <td>0.1</td>\n",
       "      <td>0.00001</td>\n",
       "      <td>10000000000</td>\n",
       "      <td>99999999</td>\n",
       "      <td>0.0001</td>\n",
       "      <td>0.000000001</td>\n",
       "      <td>0.000000001</td>\n",
       "      <td>0.1</td>\n",
       "      <td>0.000001</td>\n",
       "      <td>False</td>\n",
       "      <td>True</td>\n",
       "    </tr>\n",
       "    <tr>\n",
       "      <th>1</th>\n",
       "      <td>LOKI-ETH</td>\n",
       "      <td>OXEN-ETH</td>\n",
       "      <td>LOKI</td>\n",
       "      <td>ETH</td>\n",
       "      <td>ETH</td>\n",
       "      <td>ALTS</td>\n",
       "      <td>0.1</td>\n",
       "      <td>0.0001</td>\n",
       "      <td>10000000000</td>\n",
       "      <td>99999999</td>\n",
       "      <td>0.0001</td>\n",
       "      <td>0.0000001</td>\n",
       "      <td>0.0000001</td>\n",
       "      <td>0.1</td>\n",
       "      <td>0.00001</td>\n",
       "      <td>False</td>\n",
       "      <td>True</td>\n",
       "    </tr>\n",
       "    <tr>\n",
       "      <th>2</th>\n",
       "      <td>NRG-BTC</td>\n",
       "      <td>NRG-BTC</td>\n",
       "      <td>NRG</td>\n",
       "      <td>BTC</td>\n",
       "      <td>BTC</td>\n",
       "      <td>BTC</td>\n",
       "      <td>0.01</td>\n",
       "      <td>0.00001</td>\n",
       "      <td>10000000000</td>\n",
       "      <td>99999999</td>\n",
       "      <td>0.0001</td>\n",
       "      <td>0.00000001</td>\n",
       "      <td>0.00000001</td>\n",
       "      <td>0.1</td>\n",
       "      <td>0.000001</td>\n",
       "      <td>False</td>\n",
       "      <td>True</td>\n",
       "    </tr>\n",
       "    <tr>\n",
       "      <th>3</th>\n",
       "      <td>AVA-USDT</td>\n",
       "      <td>AVA-USDT</td>\n",
       "      <td>AVA</td>\n",
       "      <td>USDT</td>\n",
       "      <td>USDT</td>\n",
       "      <td>USDS</td>\n",
       "      <td>0.1</td>\n",
       "      <td>0.01</td>\n",
       "      <td>10000000000</td>\n",
       "      <td>99999999</td>\n",
       "      <td>0.0001</td>\n",
       "      <td>0.000001</td>\n",
       "      <td>0.000001</td>\n",
       "      <td>0.1</td>\n",
       "      <td>0.1</td>\n",
       "      <td>False</td>\n",
       "      <td>True</td>\n",
       "    </tr>\n",
       "    <tr>\n",
       "      <th>4</th>\n",
       "      <td>FET-BTC</td>\n",
       "      <td>FET-BTC</td>\n",
       "      <td>FET</td>\n",
       "      <td>BTC</td>\n",
       "      <td>BTC</td>\n",
       "      <td>BTC</td>\n",
       "      <td>0.1</td>\n",
       "      <td>0.00001</td>\n",
       "      <td>10000000000</td>\n",
       "      <td>99999999</td>\n",
       "      <td>0.0001</td>\n",
       "      <td>0.000000001</td>\n",
       "      <td>0.000000001</td>\n",
       "      <td>0.1</td>\n",
       "      <td>0.000001</td>\n",
       "      <td>False</td>\n",
       "      <td>True</td>\n",
       "    </tr>\n",
       "    <tr>\n",
       "      <th>...</th>\n",
       "      <td>...</td>\n",
       "      <td>...</td>\n",
       "      <td>...</td>\n",
       "      <td>...</td>\n",
       "      <td>...</td>\n",
       "      <td>...</td>\n",
       "      <td>...</td>\n",
       "      <td>...</td>\n",
       "      <td>...</td>\n",
       "      <td>...</td>\n",
       "      <td>...</td>\n",
       "      <td>...</td>\n",
       "      <td>...</td>\n",
       "      <td>...</td>\n",
       "      <td>...</td>\n",
       "      <td>...</td>\n",
       "      <td>...</td>\n",
       "    </tr>\n",
       "    <tr>\n",
       "      <th>1318</th>\n",
       "      <td>PZP-USDT</td>\n",
       "      <td>PZP-USDT</td>\n",
       "      <td>PZP</td>\n",
       "      <td>USDT</td>\n",
       "      <td>USDT</td>\n",
       "      <td>USDS</td>\n",
       "      <td>1</td>\n",
       "      <td>0.1</td>\n",
       "      <td>10000000000</td>\n",
       "      <td>99999999</td>\n",
       "      <td>0.0001</td>\n",
       "      <td>0.0001</td>\n",
       "      <td>0.0001</td>\n",
       "      <td>0.1</td>\n",
       "      <td>0.1</td>\n",
       "      <td>False</td>\n",
       "      <td>True</td>\n",
       "    </tr>\n",
       "    <tr>\n",
       "      <th>1319</th>\n",
       "      <td>INJDOWN-USDT</td>\n",
       "      <td>INJDOWN-USDT</td>\n",
       "      <td>INJDOWN</td>\n",
       "      <td>USDT</td>\n",
       "      <td>USDT</td>\n",
       "      <td>USDS</td>\n",
       "      <td>0.1</td>\n",
       "      <td>0.1</td>\n",
       "      <td>999999999999</td>\n",
       "      <td>5000</td>\n",
       "      <td>0.0001</td>\n",
       "      <td>0.0001</td>\n",
       "      <td>0.0001</td>\n",
       "      <td>0.1</td>\n",
       "      <td>0.1</td>\n",
       "      <td>False</td>\n",
       "      <td>True</td>\n",
       "    </tr>\n",
       "    <tr>\n",
       "      <th>1320</th>\n",
       "      <td>ETCUP-USDT</td>\n",
       "      <td>ETCUP-USDT</td>\n",
       "      <td>ETCUP</td>\n",
       "      <td>USDT</td>\n",
       "      <td>USDT</td>\n",
       "      <td>USDS</td>\n",
       "      <td>0.1</td>\n",
       "      <td>0.1</td>\n",
       "      <td>999999999999</td>\n",
       "      <td>5000</td>\n",
       "      <td>0.0001</td>\n",
       "      <td>0.0001</td>\n",
       "      <td>0.0001</td>\n",
       "      <td>0.1</td>\n",
       "      <td>0.1</td>\n",
       "      <td>False</td>\n",
       "      <td>True</td>\n",
       "    </tr>\n",
       "    <tr>\n",
       "      <th>1321</th>\n",
       "      <td>ETCDOWN-USDT</td>\n",
       "      <td>ETCDOWN-USDT</td>\n",
       "      <td>ETCDOWN</td>\n",
       "      <td>USDT</td>\n",
       "      <td>USDT</td>\n",
       "      <td>USDS</td>\n",
       "      <td>0.1</td>\n",
       "      <td>0.1</td>\n",
       "      <td>999999999999</td>\n",
       "      <td>5000</td>\n",
       "      <td>0.0001</td>\n",
       "      <td>0.0001</td>\n",
       "      <td>0.0001</td>\n",
       "      <td>0.1</td>\n",
       "      <td>0.1</td>\n",
       "      <td>False</td>\n",
       "      <td>True</td>\n",
       "    </tr>\n",
       "    <tr>\n",
       "      <th>1322</th>\n",
       "      <td>INJUP-USDT</td>\n",
       "      <td>INJUP-USDT</td>\n",
       "      <td>INJUP</td>\n",
       "      <td>USDT</td>\n",
       "      <td>USDT</td>\n",
       "      <td>USDS</td>\n",
       "      <td>0.1</td>\n",
       "      <td>0.1</td>\n",
       "      <td>999999999999</td>\n",
       "      <td>5000</td>\n",
       "      <td>0.0001</td>\n",
       "      <td>0.0001</td>\n",
       "      <td>0.0001</td>\n",
       "      <td>0.1</td>\n",
       "      <td>0.1</td>\n",
       "      <td>False</td>\n",
       "      <td>True</td>\n",
       "    </tr>\n",
       "  </tbody>\n",
       "</table>\n",
       "<p>1323 rows × 17 columns</p>\n",
       "</div>"
      ],
      "text/plain": [
       "            symbol          name baseCurrency quoteCurrency feeCurrency   \n",
       "0         LOKI-BTC      OXEN-BTC         LOKI           BTC         BTC  \\\n",
       "1         LOKI-ETH      OXEN-ETH         LOKI           ETH         ETH   \n",
       "2          NRG-BTC       NRG-BTC          NRG           BTC         BTC   \n",
       "3         AVA-USDT      AVA-USDT          AVA          USDT        USDT   \n",
       "4          FET-BTC       FET-BTC          FET           BTC         BTC   \n",
       "...            ...           ...          ...           ...         ...   \n",
       "1318      PZP-USDT      PZP-USDT          PZP          USDT        USDT   \n",
       "1319  INJDOWN-USDT  INJDOWN-USDT      INJDOWN          USDT        USDT   \n",
       "1320    ETCUP-USDT    ETCUP-USDT        ETCUP          USDT        USDT   \n",
       "1321  ETCDOWN-USDT  ETCDOWN-USDT      ETCDOWN          USDT        USDT   \n",
       "1322    INJUP-USDT    INJUP-USDT        INJUP          USDT        USDT   \n",
       "\n",
       "     market baseMinSize quoteMinSize   baseMaxSize quoteMaxSize baseIncrement   \n",
       "0       BTC         0.1      0.00001   10000000000     99999999        0.0001  \\\n",
       "1      ALTS         0.1       0.0001   10000000000     99999999        0.0001   \n",
       "2       BTC        0.01      0.00001   10000000000     99999999        0.0001   \n",
       "3      USDS         0.1         0.01   10000000000     99999999        0.0001   \n",
       "4       BTC         0.1      0.00001   10000000000     99999999        0.0001   \n",
       "...     ...         ...          ...           ...          ...           ...   \n",
       "1318   USDS           1          0.1   10000000000     99999999        0.0001   \n",
       "1319   USDS         0.1          0.1  999999999999         5000        0.0001   \n",
       "1320   USDS         0.1          0.1  999999999999         5000        0.0001   \n",
       "1321   USDS         0.1          0.1  999999999999         5000        0.0001   \n",
       "1322   USDS         0.1          0.1  999999999999         5000        0.0001   \n",
       "\n",
       "     quoteIncrement priceIncrement priceLimitRate  minFunds  isMarginEnabled   \n",
       "0       0.000000001    0.000000001            0.1  0.000001            False  \\\n",
       "1         0.0000001      0.0000001            0.1   0.00001            False   \n",
       "2        0.00000001     0.00000001            0.1  0.000001            False   \n",
       "3          0.000001       0.000001            0.1       0.1            False   \n",
       "4       0.000000001    0.000000001            0.1  0.000001            False   \n",
       "...             ...            ...            ...       ...              ...   \n",
       "1318         0.0001         0.0001            0.1       0.1            False   \n",
       "1319         0.0001         0.0001            0.1       0.1            False   \n",
       "1320         0.0001         0.0001            0.1       0.1            False   \n",
       "1321         0.0001         0.0001            0.1       0.1            False   \n",
       "1322         0.0001         0.0001            0.1       0.1            False   \n",
       "\n",
       "      enableTrading  \n",
       "0              True  \n",
       "1              True  \n",
       "2              True  \n",
       "3              True  \n",
       "4              True  \n",
       "...             ...  \n",
       "1318           True  \n",
       "1319           True  \n",
       "1320           True  \n",
       "1321           True  \n",
       "1322           True  \n",
       "\n",
       "[1323 rows x 17 columns]"
      ]
     },
     "execution_count": 55,
     "metadata": {},
     "output_type": "execute_result"
    }
   ],
   "source": [
    "get_symbols()"
   ]
  },
  {
   "cell_type": "code",
   "execution_count": 56,
   "id": "03647c5d-fb1b-4002-82a1-52a83a30eace",
   "metadata": {},
   "outputs": [
    {
     "data": {
      "text/html": [
       "<div>\n",
       "<style scoped>\n",
       "    .dataframe tbody tr th:only-of-type {\n",
       "        vertical-align: middle;\n",
       "    }\n",
       "\n",
       "    .dataframe tbody tr th {\n",
       "        vertical-align: top;\n",
       "    }\n",
       "\n",
       "    .dataframe thead th {\n",
       "        text-align: right;\n",
       "    }\n",
       "</style>\n",
       "<table border=\"1\" class=\"dataframe\">\n",
       "  <thead>\n",
       "    <tr style=\"text-align: right;\">\n",
       "      <th></th>\n",
       "      <th>name</th>\n",
       "      <th>base_currency</th>\n",
       "      <th>quote_currency</th>\n",
       "      <th>fee_currency</th>\n",
       "      <th>market</th>\n",
       "    </tr>\n",
       "    <tr>\n",
       "      <th>symbol</th>\n",
       "      <th></th>\n",
       "      <th></th>\n",
       "      <th></th>\n",
       "      <th></th>\n",
       "      <th></th>\n",
       "    </tr>\n",
       "  </thead>\n",
       "  <tbody>\n",
       "    <tr>\n",
       "      <th>PZP-USDT</th>\n",
       "      <td>PZP-USDT</td>\n",
       "      <td>PZP</td>\n",
       "      <td>USDT</td>\n",
       "      <td>USDT</td>\n",
       "      <td>USDS</td>\n",
       "    </tr>\n",
       "    <tr>\n",
       "      <th>INJDOWN-USDT</th>\n",
       "      <td>INJDOWN-USDT</td>\n",
       "      <td>INJDOWN</td>\n",
       "      <td>USDT</td>\n",
       "      <td>USDT</td>\n",
       "      <td>USDS</td>\n",
       "    </tr>\n",
       "    <tr>\n",
       "      <th>ETCUP-USDT</th>\n",
       "      <td>ETCUP-USDT</td>\n",
       "      <td>ETCUP</td>\n",
       "      <td>USDT</td>\n",
       "      <td>USDT</td>\n",
       "      <td>USDS</td>\n",
       "    </tr>\n",
       "    <tr>\n",
       "      <th>ETCDOWN-USDT</th>\n",
       "      <td>ETCDOWN-USDT</td>\n",
       "      <td>ETCDOWN</td>\n",
       "      <td>USDT</td>\n",
       "      <td>USDT</td>\n",
       "      <td>USDS</td>\n",
       "    </tr>\n",
       "    <tr>\n",
       "      <th>INJUP-USDT</th>\n",
       "      <td>INJUP-USDT</td>\n",
       "      <td>INJUP</td>\n",
       "      <td>USDT</td>\n",
       "      <td>USDT</td>\n",
       "      <td>USDS</td>\n",
       "    </tr>\n",
       "  </tbody>\n",
       "</table>\n",
       "</div>"
      ],
      "text/plain": [
       "                      name base_currency quote_currency fee_currency market\n",
       "symbol                                                                     \n",
       "PZP-USDT          PZP-USDT           PZP           USDT         USDT   USDS\n",
       "INJDOWN-USDT  INJDOWN-USDT       INJDOWN           USDT         USDT   USDS\n",
       "ETCUP-USDT      ETCUP-USDT         ETCUP           USDT         USDT   USDS\n",
       "ETCDOWN-USDT  ETCDOWN-USDT       ETCDOWN           USDT         USDT   USDS\n",
       "INJUP-USDT      INJUP-USDT         INJUP           USDT         USDT   USDS"
      ]
     },
     "execution_count": 56,
     "metadata": {},
     "output_type": "execute_result"
    }
   ],
   "source": [
    "def clean_symbols_data(symbols_df):\n",
    "    symbols_df = symbols_df.loc[:, ['symbol', 'name', 'baseCurrency', 'quoteCurrency', 'feeCurrency', 'market']]\n",
    "    symbols_df = symbols_df.rename(columns={\n",
    "        'baseCurrency': 'base_currency',\n",
    "        'quoteCurrency': 'quote_currency',\n",
    "        'feeCurrency': 'fee_currency',\n",
    "    })\n",
    "    symbols_df = symbols_df.set_index('symbol')\n",
    "    return symbols_df\n",
    "symbols_df = get_symbols()\n",
    "symbols_cleaned_df = clean_symbols_data(symbols_df)\n",
    "symbols_cleaned_df.head()\n",
    "symbols_cleaned_df.tail()"
   ]
  },
  {
   "cell_type": "code",
   "execution_count": 57,
   "id": "dd9625f8-18b2-4e34-9c1e-6c2833d2ffbd",
   "metadata": {},
   "outputs": [],
   "source": [
    "def get_symbols_pair():\n",
    "    symbols_df = get_symbols()\n",
    "    return symbols_df['symbol']"
   ]
  },
  {
   "cell_type": "code",
   "execution_count": 58,
   "id": "c28a5e2e-1a81-427c-a481-19dc2aebc1ad",
   "metadata": {},
   "outputs": [
    {
     "data": {
      "text/plain": [
       "0           LOKI-BTC\n",
       "1           LOKI-ETH\n",
       "2            NRG-BTC\n",
       "3           AVA-USDT\n",
       "4            FET-BTC\n",
       "            ...     \n",
       "1318        PZP-USDT\n",
       "1319    INJDOWN-USDT\n",
       "1320      ETCUP-USDT\n",
       "1321    ETCDOWN-USDT\n",
       "1322      INJUP-USDT\n",
       "Name: symbol, Length: 1323, dtype: object"
      ]
     },
     "execution_count": 58,
     "metadata": {},
     "output_type": "execute_result"
    }
   ],
   "source": [
    "get_symbols_pair()"
   ]
  },
  {
   "cell_type": "code",
   "execution_count": 59,
   "id": "cb6324a2-b79c-4f16-bdfc-d4ccaad1700b",
   "metadata": {},
   "outputs": [],
   "source": [
    "def get_base_currency():\n",
    "    symbols_df = get_symbols()\n",
    "    return symbols_df['baseCurrency']"
   ]
  },
  {
   "cell_type": "code",
   "execution_count": 60,
   "id": "ebd4ca16-e2e6-4ba6-b226-896c929eec3b",
   "metadata": {},
   "outputs": [
    {
     "data": {
      "text/plain": [
       "0          LOKI\n",
       "1          LOKI\n",
       "2           NRG\n",
       "3           AVA\n",
       "4           FET\n",
       "         ...   \n",
       "1318        PZP\n",
       "1319    INJDOWN\n",
       "1320      ETCUP\n",
       "1321    ETCDOWN\n",
       "1322      INJUP\n",
       "Name: baseCurrency, Length: 1323, dtype: object"
      ]
     },
     "execution_count": 60,
     "metadata": {},
     "output_type": "execute_result"
    }
   ],
   "source": [
    "get_base_currency()"
   ]
  },
  {
   "cell_type": "code",
   "execution_count": 61,
   "id": "43685f5f-7cf0-4044-927b-5278656f3d7e",
   "metadata": {},
   "outputs": [],
   "source": [
    "def get_quote_currency():\n",
    "    symbols_df = get_symbols()\n",
    "    return symbols_df['quoteCurrency']"
   ]
  },
  {
   "cell_type": "code",
   "execution_count": 62,
   "id": "99b7126e-18e0-4bdd-af16-d596860bcb23",
   "metadata": {},
   "outputs": [
    {
     "data": {
      "text/plain": [
       "0        BTC\n",
       "1        ETH\n",
       "2        BTC\n",
       "3       USDT\n",
       "4        BTC\n",
       "        ... \n",
       "1318    USDT\n",
       "1319    USDT\n",
       "1320    USDT\n",
       "1321    USDT\n",
       "1322    USDT\n",
       "Name: quoteCurrency, Length: 1323, dtype: object"
      ]
     },
     "execution_count": 62,
     "metadata": {},
     "output_type": "execute_result"
    }
   ],
   "source": [
    "get_quote_currency()"
   ]
  },
  {
   "cell_type": "code",
   "execution_count": 63,
   "id": "993369ae-16fb-46a4-8693-806165407d5b",
   "metadata": {},
   "outputs": [],
   "source": [
    "def get_deposit_list(currency=None, page=None, pageSize=None):\n",
    "    url = '/api/v1/deposits'\n",
    "    headers = get_headers(url, 'GET')\n",
    "    params = {}\n",
    "    if currency:\n",
    "        params['currency'] = currency\n",
    "    if page:\n",
    "        params['page'] = page\n",
    "    if pageSize:\n",
    "        params['pageSize'] = pageSize\n",
    "    \n",
    "    response = requests.get('https://api.kucoin.com' + url, headers=headers, params=params)\n",
    "    if response.status_code == 200:\n",
    "        deposit_list = response.json()\n",
    "        return deposit_list\n",
    "    else:\n",
    "        print('Failed to get deposit list. Error code:', response.status_code)"
   ]
  },
  {
   "cell_type": "code",
   "execution_count": 64,
   "id": "56a3d308-0c3b-4279-8d02-5aedb2d3984a",
   "metadata": {},
   "outputs": [],
   "source": [
    "#get_deposit_list()"
   ]
  },
  {
   "cell_type": "code",
   "execution_count": 65,
   "id": "ff0ff070-e8a8-4c00-b20d-91f5c2e8c2e2",
   "metadata": {},
   "outputs": [],
   "source": [
    "def get_base_fee():\n",
    "    url = '/api/v1/base-fee'\n",
    "    headers = get_headers(url, 'GET')\n",
    "    response = requests.get('https://api.kucoin.com'+url, headers=headers)\n",
    "    if response.status_code == 200:\n",
    "        fees_data = response.json()['data']\n",
    "        fees_df = pd.DataFrame(fees_data, index=[0])\n",
    "        return fees_df\n",
    "    else:\n",
    "        print('Failed to get trade fees data. Error code:', response.status_code)"
   ]
  },
  {
   "cell_type": "code",
   "execution_count": 66,
   "id": "780e7b78-3591-4f1a-b130-ecfe4143dff3",
   "metadata": {},
   "outputs": [
    {
     "data": {
      "text/html": [
       "<div>\n",
       "<style scoped>\n",
       "    .dataframe tbody tr th:only-of-type {\n",
       "        vertical-align: middle;\n",
       "    }\n",
       "\n",
       "    .dataframe tbody tr th {\n",
       "        vertical-align: top;\n",
       "    }\n",
       "\n",
       "    .dataframe thead th {\n",
       "        text-align: right;\n",
       "    }\n",
       "</style>\n",
       "<table border=\"1\" class=\"dataframe\">\n",
       "  <thead>\n",
       "    <tr style=\"text-align: right;\">\n",
       "      <th></th>\n",
       "      <th>takerFeeRate</th>\n",
       "      <th>makerFeeRate</th>\n",
       "    </tr>\n",
       "  </thead>\n",
       "  <tbody>\n",
       "    <tr>\n",
       "      <th>0</th>\n",
       "      <td>0.001</td>\n",
       "      <td>0.001</td>\n",
       "    </tr>\n",
       "  </tbody>\n",
       "</table>\n",
       "</div>"
      ],
      "text/plain": [
       "  takerFeeRate makerFeeRate\n",
       "0        0.001        0.001"
      ]
     },
     "execution_count": 66,
     "metadata": {},
     "output_type": "execute_result"
    }
   ],
   "source": [
    "get_base_fee()"
   ]
  },
  {
   "cell_type": "code",
   "execution_count": 67,
   "id": "2b687f8e-2bad-488d-8536-cdd0bdc8b79c",
   "metadata": {},
   "outputs": [],
   "source": [
    "def get_actual_fee_rate(symbol):\n",
    "    url = '/api/v1/trade-fees'\n",
    "    headers = get_headers(url, 'GET')\n",
    "    response = requests.get('https://api.kucoin.com'+url+'?symbols='+symbol, headers=headers)\n",
    "    if response.status_code == 200:\n",
    "        fees_data = response.json()['data']\n",
    "        fees_df = pd.DataFrame(fees_data)\n",
    "        return fees_df\n",
    "    else:\n",
    "        print('Failed to get actual fee rate data. Error code:', response.status_code)"
   ]
  },
  {
   "cell_type": "code",
   "execution_count": 68,
   "id": "58b7b92a-e5e0-435c-ac3f-cba5cc3500b7",
   "metadata": {},
   "outputs": [
    {
     "name": "stdout",
     "output_type": "stream",
     "text": [
      "Failed to get actual fee rate data. Error code: 401\n"
     ]
    }
   ],
   "source": [
    "get_actual_fee_rate('KNC-USDT')"
   ]
  },
  {
   "cell_type": "code",
   "execution_count": 69,
   "id": "28fdb9a5-4eed-4cc8-9a35-8edbabf04f1c",
   "metadata": {},
   "outputs": [],
   "source": [
    "def get_24hr_stats(symbol):\n",
    "    url = 'https://api.kucoin.com/api/v1/market/stats'\n",
    "    params = {'symbol': symbol}\n",
    "    response = requests.get(url, params=params)\n",
    "    data = json.loads(response.text)['data']\n",
    "    return data"
   ]
  },
  {
   "cell_type": "code",
   "execution_count": 70,
   "id": "80141d39-ce2d-497a-9954-de2c354f55cb",
   "metadata": {},
   "outputs": [
    {
     "data": {
      "text/plain": [
       "{'time': 1681941422706,\n",
       " 'symbol': 'KNC-USDT',\n",
       " 'buy': '0.7195',\n",
       " 'sell': '0.721',\n",
       " 'changeRate': '-0.0809',\n",
       " 'changePrice': '-0.0634',\n",
       " 'high': '0.7881',\n",
       " 'low': '0.7055',\n",
       " 'vol': '28208.6454',\n",
       " 'volValue': '20698.19664451',\n",
       " 'last': '0.7202',\n",
       " 'averagePrice': '0.74564723',\n",
       " 'takerFeeRate': '0.001',\n",
       " 'makerFeeRate': '0.001',\n",
       " 'takerCoefficient': '1',\n",
       " 'makerCoefficient': '1'}"
      ]
     },
     "execution_count": 70,
     "metadata": {},
     "output_type": "execute_result"
    }
   ],
   "source": [
    "get_24hr_stats('KNC-USDT')"
   ]
  },
  {
   "cell_type": "code",
   "execution_count": 71,
   "id": "da0a7446-0dce-4562-993c-59f3322b297f",
   "metadata": {},
   "outputs": [],
   "source": [
    "def get_market_list():\n",
    "    endpoint = 'https://api.kucoin.com/api/v1/markets'\n",
    "    response = requests.get(endpoint)\n",
    "    data = json.loads(response.content)\n",
    "    markets = data['data']\n",
    "    print(markets)"
   ]
  },
  {
   "cell_type": "code",
   "execution_count": 72,
   "id": "2f39dd61-69f0-453b-a762-052c48eb45b1",
   "metadata": {},
   "outputs": [
    {
     "name": "stdout",
     "output_type": "stream",
     "text": [
      "['USDS', 'Hong-Kong', 'BTC', 'KCS', 'ALTS', 'NFT-ETF', 'FIAT', 'Arbitrum', 'DeFi', 'Shanghai-Upgrade', 'NFT', 'AI', 'Polkadot', 'ETF', 'Layer 1']\n"
     ]
    }
   ],
   "source": [
    "get_market_list()"
   ]
  },
  {
   "cell_type": "code",
   "execution_count": 73,
   "id": "8ec91f94-245b-43d0-aa07-7bd3a9fcb282",
   "metadata": {},
   "outputs": [],
   "source": [
    "def get_trade_histories(symbol):\n",
    "    url = 'https://api.kucoin.com/api/v1/market/histories?symbol={}'.format(symbol)\n",
    "    response = requests.get(url)\n",
    "    if response.status_code == 200:\n",
    "        return response.json()['data']\n",
    "    else:\n",
    "        return None"
   ]
  },
  {
   "cell_type": "code",
   "execution_count": 75,
   "id": "cd0b3528-f2e9-4ded-acc0-3504899b26e9",
   "metadata": {},
   "outputs": [],
   "source": [
    "#get_trade_histories('KNC-BTC')"
   ]
  },
  {
   "cell_type": "code",
   "execution_count": 76,
   "id": "3b887656-b709-48bc-8af8-e8d117abe098",
   "metadata": {},
   "outputs": [],
   "source": [
    "def get_currencies():\n",
    "    url = '/api/v1/currencies'\n",
    "    response = requests.get('https://api.kucoin.com' + url)\n",
    "    if response.status_code == 200:\n",
    "        currencies_data = response.json()\n",
    "        return currencies_data\n",
    "    else:\n",
    "        print('Failed to get currencies data. Error code:', response.status_code)"
   ]
  },
  {
   "cell_type": "code",
   "execution_count": 77,
   "id": "b7a50235-462a-42f5-a7a9-bee46d25cda3",
   "metadata": {},
   "outputs": [],
   "source": [
    "#get_currencies()"
   ]
  },
  {
   "cell_type": "code",
   "execution_count": 78,
   "id": "2d3a50c7-680b-4396-b1c5-6163bf6433d1",
   "metadata": {},
   "outputs": [],
   "source": [
    "def get_fiat_price(symbol):\n",
    "    url = 'https://api.kucoin.com/api/v1/prices'\n",
    "    params = {\"symbols\": symbol}\n",
    "    response = requests.get(url, params=params)\n",
    "\n",
    "    if response.status_code == 200:\n",
    "        data = response.json()['data']\n",
    "        return float(data[symbol])\n",
    "    else:\n",
    "        print(f\"Failed to get {symbol} price. Error code:\", response.status_code)"
   ]
  },
  {
   "cell_type": "code",
   "execution_count": 79,
   "id": "f82a59b1-aaa0-4da9-ad14-dbd3902bf46f",
   "metadata": {},
   "outputs": [
    {
     "data": {
      "text/plain": [
       "1.0004"
      ]
     },
     "execution_count": 79,
     "metadata": {},
     "output_type": "execute_result"
    }
   ],
   "source": [
    "get_fiat_price('USDT')"
   ]
  },
  {
   "cell_type": "code",
   "execution_count": 80,
   "id": "5bc5cfcf-45d2-4e34-9112-74435b4b87dc",
   "metadata": {},
   "outputs": [],
   "source": [
    "def get_klines(symbol, interval='1day'):\n",
    "    url = f'https://api.kucoin.com/api/v1/market/candles?type={interval}&symbol={symbol}'\n",
    "    response = requests.get(url)\n",
    "    if response.status_code == 200:\n",
    "        data = response.json()['data']\n",
    "        klines_data = pd.DataFrame(data, columns=['time', 'open', 'close', 'high', 'low', 'volume', 'turnover'])\n",
    "        klines_data['time'] = pd.to_datetime(klines_data['time'], unit='ms')\n",
    "        klines_data.set_index('time', inplace=True)\n",
    "        klines_data = klines_data.astype(float)\n",
    "        return klines_data\n",
    "    else:\n",
    "        print(f'Failed to get {symbol} Klines data. Error code:', response.status_code)\n",
    "        return None"
   ]
  },
  {
   "cell_type": "code",
   "execution_count": 81,
   "id": "13ca0cf3-8e8b-49b0-a3d2-5ce6879585d1",
   "metadata": {},
   "outputs": [
    {
     "data": {
      "text/html": [
       "<div>\n",
       "<style scoped>\n",
       "    .dataframe tbody tr th:only-of-type {\n",
       "        vertical-align: middle;\n",
       "    }\n",
       "\n",
       "    .dataframe tbody tr th {\n",
       "        vertical-align: top;\n",
       "    }\n",
       "\n",
       "    .dataframe thead th {\n",
       "        text-align: right;\n",
       "    }\n",
       "</style>\n",
       "<table border=\"1\" class=\"dataframe\">\n",
       "  <thead>\n",
       "    <tr style=\"text-align: right;\">\n",
       "      <th></th>\n",
       "      <th>open</th>\n",
       "      <th>close</th>\n",
       "      <th>high</th>\n",
       "      <th>low</th>\n",
       "      <th>volume</th>\n",
       "      <th>turnover</th>\n",
       "    </tr>\n",
       "    <tr>\n",
       "      <th>time</th>\n",
       "      <th></th>\n",
       "      <th></th>\n",
       "      <th></th>\n",
       "      <th></th>\n",
       "      <th></th>\n",
       "      <th></th>\n",
       "    </tr>\n",
       "  </thead>\n",
       "  <tbody>\n",
       "    <tr>\n",
       "      <th>1970-01-20 11:11:02.400</th>\n",
       "      <td>30380.2</td>\n",
       "      <td>29144.7</td>\n",
       "      <td>30413.8</td>\n",
       "      <td>28800.0</td>\n",
       "      <td>7966.455318</td>\n",
       "      <td>2.340657e+08</td>\n",
       "    </tr>\n",
       "    <tr>\n",
       "      <th>1970-01-20 11:09:36.000</th>\n",
       "      <td>29426.8</td>\n",
       "      <td>30380.1</td>\n",
       "      <td>30482.7</td>\n",
       "      <td>29100.0</td>\n",
       "      <td>5394.409606</td>\n",
       "      <td>1.619533e+08</td>\n",
       "    </tr>\n",
       "    <tr>\n",
       "      <th>1970-01-20 11:08:09.600</th>\n",
       "      <td>30304.0</td>\n",
       "      <td>29426.7</td>\n",
       "      <td>30315.1</td>\n",
       "      <td>29239.6</td>\n",
       "      <td>4352.109700</td>\n",
       "      <td>1.291750e+08</td>\n",
       "    </tr>\n",
       "    <tr>\n",
       "      <th>1970-01-20 11:06:43.200</th>\n",
       "      <td>30298.2</td>\n",
       "      <td>30304.1</td>\n",
       "      <td>30548.0</td>\n",
       "      <td>30123.6</td>\n",
       "      <td>1978.649750</td>\n",
       "      <td>5.997943e+07</td>\n",
       "    </tr>\n",
       "    <tr>\n",
       "      <th>1970-01-20 11:05:16.800</th>\n",
       "      <td>30463.2</td>\n",
       "      <td>30298.2</td>\n",
       "      <td>30594.9</td>\n",
       "      <td>30205.1</td>\n",
       "      <td>2075.344905</td>\n",
       "      <td>6.301621e+07</td>\n",
       "    </tr>\n",
       "  </tbody>\n",
       "</table>\n",
       "</div>"
      ],
      "text/plain": [
       "                            open    close     high      low       volume   \n",
       "time                                                                       \n",
       "1970-01-20 11:11:02.400  30380.2  29144.7  30413.8  28800.0  7966.455318  \\\n",
       "1970-01-20 11:09:36.000  29426.8  30380.1  30482.7  29100.0  5394.409606   \n",
       "1970-01-20 11:08:09.600  30304.0  29426.7  30315.1  29239.6  4352.109700   \n",
       "1970-01-20 11:06:43.200  30298.2  30304.1  30548.0  30123.6  1978.649750   \n",
       "1970-01-20 11:05:16.800  30463.2  30298.2  30594.9  30205.1  2075.344905   \n",
       "\n",
       "                             turnover  \n",
       "time                                   \n",
       "1970-01-20 11:11:02.400  2.340657e+08  \n",
       "1970-01-20 11:09:36.000  1.619533e+08  \n",
       "1970-01-20 11:08:09.600  1.291750e+08  \n",
       "1970-01-20 11:06:43.200  5.997943e+07  \n",
       "1970-01-20 11:05:16.800  6.301621e+07  "
      ]
     },
     "execution_count": 81,
     "metadata": {},
     "output_type": "execute_result"
    }
   ],
   "source": [
    "symbol = 'BTC-USDT'\n",
    "interval = '1day'\n",
    "klines_data = get_klines(symbol, interval)\n",
    "klines_data.head()"
   ]
  },
  {
   "cell_type": "code",
   "execution_count": 84,
   "id": "01009f9e-3f2b-4d2e-889a-1401eb76e39c",
   "metadata": {},
   "outputs": [],
   "source": [
    "# Convert transaction data into a portfolio object\n",
    "#portfolio = pf.create_returns_tear_sheet(df)\n",
    "\n",
    "# Calculate daily returns for crypto assets in portfolio\n",
    "#crypto_rets = pf.utils.get_crypto_returns(portfolio)\n",
    "\n",
    "# Create Bayesian tear sheet for crypto returns\n",
    "#out_of_sample = crypto_rets.index[-40]\n",
    "#pf.create_bayesian_tear_sheet(crypto_rets, live_start_date=out_of_sample)\n",
    "\n",
    "#crypto_rets = pf.utils.get_symbol_rets('FB')"
   ]
  },
  {
   "cell_type": "code",
   "execution_count": 85,
   "id": "d4ef3c1a-c94d-4828-8ddf-834f1235830b",
   "metadata": {},
   "outputs": [],
   "source": [
    "def get_investment_data(url='/api/v1/accounts'):\n",
    "    headers = get_headers(url, 'GET')\n",
    "    response = requests.get(f'https://api.kucoin.com{url}', headers=headers)\n",
    "    if response.status_code == 200:\n",
    "        data = response.json()\n",
    "        return pd.DataFrame(data['data'])\n",
    "    else:\n",
    "        print(f\"Failed to get investment data. Error code: {response.status_code}\")\n",
    "        return None"
   ]
  },
  {
   "cell_type": "code",
   "execution_count": 86,
   "id": "9d26cc0d-51d6-4609-8adb-a740bf9f0413",
   "metadata": {},
   "outputs": [
    {
     "data": {
      "text/html": [
       "<div>\n",
       "<style scoped>\n",
       "    .dataframe tbody tr th:only-of-type {\n",
       "        vertical-align: middle;\n",
       "    }\n",
       "\n",
       "    .dataframe tbody tr th {\n",
       "        vertical-align: top;\n",
       "    }\n",
       "\n",
       "    .dataframe thead th {\n",
       "        text-align: right;\n",
       "    }\n",
       "</style>\n",
       "<table border=\"1\" class=\"dataframe\">\n",
       "  <thead>\n",
       "    <tr style=\"text-align: right;\">\n",
       "      <th></th>\n",
       "      <th>id</th>\n",
       "      <th>currency</th>\n",
       "      <th>type</th>\n",
       "      <th>balance</th>\n",
       "      <th>available</th>\n",
       "      <th>holds</th>\n",
       "    </tr>\n",
       "  </thead>\n",
       "  <tbody>\n",
       "    <tr>\n",
       "      <th>0</th>\n",
       "      <td>625a8e24c3c51b0001e1a13a</td>\n",
       "      <td>ROUTE</td>\n",
       "      <td>trade</td>\n",
       "      <td>3729.2422</td>\n",
       "      <td>3729.2422</td>\n",
       "      <td>0</td>\n",
       "    </tr>\n",
       "    <tr>\n",
       "      <th>1</th>\n",
       "      <td>62d85e5b501cb3000163af50</td>\n",
       "      <td>ATOM</td>\n",
       "      <td>trade</td>\n",
       "      <td>50</td>\n",
       "      <td>50</td>\n",
       "      <td>0</td>\n",
       "    </tr>\n",
       "    <tr>\n",
       "      <th>2</th>\n",
       "      <td>62d854f9cf97b00001868262</td>\n",
       "      <td>API3</td>\n",
       "      <td>trade</td>\n",
       "      <td>235</td>\n",
       "      <td>235</td>\n",
       "      <td>0</td>\n",
       "    </tr>\n",
       "    <tr>\n",
       "      <th>3</th>\n",
       "      <td>62d8bdda975dca0001f55ac0</td>\n",
       "      <td>KNC</td>\n",
       "      <td>trade</td>\n",
       "      <td>142.316</td>\n",
       "      <td>142.316</td>\n",
       "      <td>0</td>\n",
       "    </tr>\n",
       "    <tr>\n",
       "      <th>4</th>\n",
       "      <td>6259aad5a560990001c98ddb</td>\n",
       "      <td>USDT</td>\n",
       "      <td>trade</td>\n",
       "      <td>0.00007904</td>\n",
       "      <td>0.00007904</td>\n",
       "      <td>0</td>\n",
       "    </tr>\n",
       "    <tr>\n",
       "      <th>5</th>\n",
       "      <td>62599d12c750d100018732c2</td>\n",
       "      <td>USDT</td>\n",
       "      <td>main</td>\n",
       "      <td>0</td>\n",
       "      <td>0</td>\n",
       "      <td>0</td>\n",
       "    </tr>\n",
       "  </tbody>\n",
       "</table>\n",
       "</div>"
      ],
      "text/plain": [
       "                         id currency   type     balance   available holds\n",
       "0  625a8e24c3c51b0001e1a13a    ROUTE  trade   3729.2422   3729.2422     0\n",
       "1  62d85e5b501cb3000163af50     ATOM  trade          50          50     0\n",
       "2  62d854f9cf97b00001868262     API3  trade         235         235     0\n",
       "3  62d8bdda975dca0001f55ac0      KNC  trade     142.316     142.316     0\n",
       "4  6259aad5a560990001c98ddb     USDT  trade  0.00007904  0.00007904     0\n",
       "5  62599d12c750d100018732c2     USDT   main           0           0     0"
      ]
     },
     "execution_count": 86,
     "metadata": {},
     "output_type": "execute_result"
    }
   ],
   "source": [
    "get_investment_data()"
   ]
  },
  {
   "cell_type": "code",
   "execution_count": 87,
   "id": "512d1c41-ea41-41cd-9ad9-71b75b59c3cc",
   "metadata": {},
   "outputs": [],
   "source": [
    "def get_total_portfolio_value():\n",
    "    tickers = get_all_tickers()['data']['ticker']\n",
    "    balances = get_account_balance()\n",
    "    total_value = 0.0\n",
    "    for row in balances:\n",
    "        currency = row['currency']\n",
    "        holdings = row['balance']\n",
    "        ticker = next((item for item in tickers if item['symbol'] == f\"{currency}-USDT\"), None)\n",
    "        if ticker is not None:\n",
    "            price = float(ticker['last'])\n",
    "            value = price * float(holdings)\n",
    "            total_value += value\n",
    "    return total_value"
   ]
  },
  {
   "cell_type": "code",
   "execution_count": 88,
   "id": "1cb2c544-2801-4b07-a932-2d9834c471ed",
   "metadata": {},
   "outputs": [
    {
     "data": {
      "text/plain": [
       "9366.78187404"
      ]
     },
     "execution_count": 88,
     "metadata": {},
     "output_type": "execute_result"
    }
   ],
   "source": [
    "get_total_portfolio_value()"
   ]
  },
  {
   "cell_type": "code",
   "execution_count": 89,
   "id": "a9099091-c304-4efa-9c53-6380e71fd7d4",
   "metadata": {},
   "outputs": [],
   "source": [
    "def get_total_profit_loss():\n",
    "    balances = get_account_balance()\n",
    "    total_profit_loss = 0.0\n",
    "    for balance in balances:\n",
    "        currency = balance['currency']\n",
    "        holdings = float(balance['balance'])\n",
    "        if holdings == 0:\n",
    "            continue\n",
    "        ticker = next((item for item in get_all_tickers()['data']['ticker'] if item['symbol'] == f\"{currency}-USDT\"), None)\n",
    "        if ticker:\n",
    "            price = float(ticker.get('last', 0))\n",
    "            avg_price = float(balance.get('avgPrice', 0))\n",
    "            profit_loss = (price - avg_price) * holdings\n",
    "            total_profit_loss += profit_loss\n",
    "    return total_profit_loss"
   ]
  },
  {
   "cell_type": "code",
   "execution_count": 92,
   "id": "b1b82175-9c96-4f2b-9979-bfbacaa73730",
   "metadata": {},
   "outputs": [
    {
     "data": {
      "text/plain": [
       "9374.613282659999"
      ]
     },
     "execution_count": 92,
     "metadata": {},
     "output_type": "execute_result"
    }
   ],
   "source": [
    "get_total_profit_loss()"
   ]
  },
  {
   "cell_type": "code",
   "execution_count": 94,
   "id": "e9e040e1-8c60-4a6e-9ffe-e56846af674f",
   "metadata": {},
   "outputs": [],
   "source": [
    "def get_assets_data():\n",
    "    tickers = get_all_tickers()['data']['ticker']\n",
    "    balances = get_account_balance()\n",
    "    assets_data = {}\n",
    "    for row in balances:\n",
    "        currency = row['currency']\n",
    "        holdings = row['balance']\n",
    "        ticker = next((item for item in tickers if item['symbol'] == f\"{currency}-USDT\"), None)\n",
    "        if ticker is not None:\n",
    "            price = float(ticker['last'])\n",
    "            value = price * float(holdings)\n",
    "            asset_data = {'symbol': currency, 'holdings': holdings, 'price': price, 'value': value}\n",
    "            assets_data[currency] = asset_data\n",
    "    return assets_data"
   ]
  },
  {
   "cell_type": "code",
   "execution_count": 96,
   "id": "355e5a0b-0cf1-4394-8e92-f55fbac3350d",
   "metadata": {},
   "outputs": [
    {
     "data": {
      "text/plain": [
       "{'ROUTE': {'symbol': 'ROUTE',\n",
       "  'holdings': '3729.2422',\n",
       "  'price': 2.2258,\n",
       "  'value': 8300.54728876},\n",
       " 'ATOM': {'symbol': 'ATOM',\n",
       "  'holdings': '50',\n",
       "  'price': 11.9053,\n",
       "  'value': 595.265},\n",
       " 'API3': {'symbol': 'API3',\n",
       "  'holdings': '235',\n",
       "  'price': 1.593,\n",
       "  'value': 374.355},\n",
       " 'KNC': {'symbol': 'KNC',\n",
       "  'holdings': '142.316',\n",
       "  'price': 0.7208,\n",
       "  'value': 102.5813728}}"
      ]
     },
     "execution_count": 96,
     "metadata": {},
     "output_type": "execute_result"
    }
   ],
   "source": [
    "get_assets_data()"
   ]
  },
  {
   "cell_type": "code",
   "execution_count": null,
   "id": "bf5bfe52-fec6-4238-96d9-e7dfcda67e7b",
   "metadata": {},
   "outputs": [],
   "source": []
  }
 ],
 "metadata": {
  "kernelspec": {
   "display_name": "Python 3 (ipykernel)",
   "language": "python",
   "name": "python3"
  },
  "language_info": {
   "codemirror_mode": {
    "name": "ipython",
    "version": 3
   },
   "file_extension": ".py",
   "mimetype": "text/x-python",
   "name": "python",
   "nbconvert_exporter": "python",
   "pygments_lexer": "ipython3",
   "version": "3.9.16"
  }
 },
 "nbformat": 4,
 "nbformat_minor": 5
}
