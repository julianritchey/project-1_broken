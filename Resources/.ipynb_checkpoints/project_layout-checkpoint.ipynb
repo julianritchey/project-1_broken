{
 "cells": [
  {
   "cell_type": "code",
   "execution_count": null,
   "id": "d608a21b-5b7a-4343-b88e-6f8392235bb9",
   "metadata": {},
   "outputs": [],
   "source": [
    "# Project Layout\n",
    "\n",
    "## Goal\n",
    "#Develop a real-time portfolio tracker that performs the following functions:\n",
    "#Displays historic and existing investments from multiple exchanges.\n",
    "#Stores historic and existing investments in a local database.\n",
    "#Provides forecasting models for various investment assets.\n",
    "#Displays data in tabular and graphical formats.\n",
    "\n",
    "## Road map\n",
    "#Open trial investment accounts at various exchanges.\n",
    "#Initialize primary documents in their respective paths.\n",
    "#Prepare API functions, design and develop database, develop main application menu.\n",
    "#Pull, customize and organize initial data, develop database queries, develop displays for current and historic investments.\n",
    "#Pull, customize and organize remaining data, populate database with all data, develop display for portfolio forecasting.\n",
    "#Test application.\n",
    "\n",
    "## Tasks\n",
    "### Preparation\n",
    "#Open trial accounts at various exchanges.\n",
    "\n",
    "### Forecasting\n",
    "#Initialize forecasting.ipynb file in Resources folder.\n",
    "#Prepare API calls for portfolio forecasting.\n",
    "#Pull historic data for portfolio forecasting of one asset.\n",
    "#Customize portfolio forecasting for first asset type.\n",
    "#Pull historic data for remaining assets.\n",
    "#Customize portfolio forecasting for remaining assets.\n",
    "\n",
    "### Investment data\n",
    "#Initialize investments.ipynb file in Resources folder.\n",
    "# Prepare API calls for investment data collection.\n",
    "# Pull investment data from first exchange.\n",
    "# Organize investment data.\n",
    "# Pull investment data from remaining exchanges.\n",
    "# Organize investment data from remaining exchanges.\n",
    "\n",
    "### Database\n",
    "# Initialize queries.ipynb file in Resources folder.\n",
    "# Design database for storing investment data and portfolio forecasting data.\n",
    "# Develop database for storing investment data and portfolio forecasting data.\n",
    "# Develop database CRUD queries for application.\n",
    "# Populate database using application queries.\n",
    "\n",
    "### Application\n",
    "# Initialize index.ipynb file in main repository.\n",
    "#Develop user input for main menu.\n",
    "#Develop display for current investments.\n",
    "# Develop display for historic investments.\n",
    "#Develop display for portfolio forecasting.\n",
    "\n",
    "\n",
    "\n",
    "\n"
   ]
  }
 ],
 "metadata": {
  "kernelspec": {
   "display_name": "Python 3 (ipykernel)",
   "language": "python",
   "name": "python3"
  },
  "language_info": {
   "codemirror_mode": {
    "name": "ipython",
    "version": 3
   },
   "file_extension": ".py",
   "mimetype": "text/x-python",
   "name": "python",
   "nbconvert_exporter": "python",
   "pygments_lexer": "ipython3",
   "version": "3.9.13"
  }
 },
 "nbformat": 4,
 "nbformat_minor": 5
}
