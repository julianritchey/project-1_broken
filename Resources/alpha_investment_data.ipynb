{
 "cells": [
  {
   "cell_type": "code",
   "execution_count": 6,
   "id": "836c43f9-ed8e-4232-ad1c-59e2a632cf8d",
   "metadata": {},
   "outputs": [],
   "source": [
    "#import pyfolio as pf\n",
    "#import theano\n",
    "#theano.config.cxx = \"\"\n",
    "%matplotlib inline\n",
    "import pandas as pd\n",
    "import requests\n",
    "from dotenv import load_dotenv\n",
    "import os"
   ]
  },
  {
   "cell_type": "code",
   "execution_count": 7,
   "id": "e7ac3acc-f208-492d-9fea-9aaf18b5ca76",
   "metadata": {},
   "outputs": [
    {
     "data": {
      "text/plain": [
       "True"
      ]
     },
     "execution_count": 7,
     "metadata": {},
     "output_type": "execute_result"
    }
   ],
   "source": [
    "dotenv_path = 'C:/Desktop/my_gitrepos/project-1/Resources/alpha_vantage.env'\n",
    "load_dotenv(dotenv_path)"
   ]
  },
  {
   "cell_type": "code",
   "execution_count": 8,
   "id": "41f4b546-c153-4da7-9af6-f1a8e4ee0f56",
   "metadata": {},
   "outputs": [],
   "source": [
    "api_key = os.getenv('ALPHA_api_key')"
   ]
  },
  {
   "cell_type": "code",
   "execution_count": 10,
   "id": "1c862dc0-e2de-45e8-857e-dab4dffd6c97",
   "metadata": {},
   "outputs": [],
   "source": [
    "import warnings\n",
    "warnings.filterwarnings('ignore')"
   ]
  },
  {
   "cell_type": "code",
   "execution_count": 10,
   "id": "05f695c4-125a-4afc-8026-cc741832726a",
   "metadata": {},
   "outputs": [
    {
     "name": "stdout",
     "output_type": "stream",
     "text": [
      "{'Information': 'Thank you for using Alpha Vantage! This is a premium endpoint. You may subscribe to any of the premium plans at https://www.alphavantage.co/premium/ to instantly unlock all premium endpoints'}\n"
     ]
    }
   ],
   "source": [
    "url = 'https://www.alphavantage.co/query'\n",
    "params = {\n",
    "    'function': 'TIME_SERIES_DAILY_ADJUSTED',\n",
    "    'symbol': 'MARA',\n",
    "    'apikey': 'api_key'\n",
    "}\n",
    "response = requests.get(url, params=params)\n",
    "\n",
    "url = 'https://www.alphavantage.co/query?function=TIME_SERIES_DAILY&symbol=MARA&apikey=api_key'\n",
    "r = requests.get(url)\n",
    "MARA_stock_data = r.json()\n",
    "print(MARA_stock_data)"
   ]
  },
  {
   "cell_type": "code",
   "execution_count": null,
   "id": "24c1dda3-b1c5-4700-a222-94c79cd3ec3c",
   "metadata": {},
   "outputs": [],
   "source": [
    "\n",
    "print(MARA_stock_data)\n",
    "df = pd.DataFrame.from_dict(response.json()['Time Series (Daily)'], orient='index')\n",
    "df.index = pd.to_datetime(df.index)\n",
    "df = df.astype(float)\n",
    "\n",
    "# Display the dataframe\n",
    "print(df.head())\n"
   ]
  },
  {
   "cell_type": "code",
   "execution_count": 5,
   "id": "b13514af-dcd0-45c4-a742-c9b002bf718e",
   "metadata": {},
   "outputs": [
    {
     "name": "stdout",
     "output_type": "stream",
     "text": [
      "{'Information': 'The **demo** API key is for demo purposes only. Please claim your free API key at (https://www.alphavantage.co/support/#api-key) to explore our full API offerings. It takes fewer than 20 seconds.'}\n"
     ]
    }
   ],
   "source": [
    "# replace the \"demo\" apikey below with your own key from https://www.alphavantage.co/support/#api-key\n",
    "url = 'https://www.alphavantage.co/query?function=TIME_SERIES_DAILY&symbol=MARA&apikey='\n",
    "r = requests.get(url)\n",
    "data_mara = r.json()\n",
    "print(data_mara)"
   ]
  },
  {
   "cell_type": "code",
   "execution_count": null,
   "id": "580cb83b-b50f-4933-a095-6c63a8b62991",
   "metadata": {},
   "outputs": [],
   "source": []
  }
 ],
 "metadata": {
  "kernelspec": {
   "display_name": "Python 3 (ipykernel)",
   "language": "python",
   "name": "python3"
  },
  "language_info": {
   "codemirror_mode": {
    "name": "ipython",
    "version": 3
   },
   "file_extension": ".py",
   "mimetype": "text/x-python",
   "name": "python",
   "nbconvert_exporter": "python",
   "pygments_lexer": "ipython3",
   "version": "3.9.16"
  }
 },
 "nbformat": 4,
 "nbformat_minor": 5
}
