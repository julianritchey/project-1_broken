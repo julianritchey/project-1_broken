{
 "cells": [
  {
   "cell_type": "markdown",
   "id": "6a3d5a30-bcbb-408e-8b2d-95e6db8fdc1b",
   "metadata": {},
   "source": [
    "# Queries\n",
    "This document will contain all queries required by the application in order to interact with the database."
   ]
  },
  {
   "cell_type": "code",
   "execution_count": 1,
   "id": "edebc8b5-179d-4511-b133-2b0de68a0dd6",
   "metadata": {},
   "outputs": [],
   "source": [
    "# Query to create 'assets' table"
   ]
  },
  {
   "cell_type": "code",
   "execution_count": 2,
   "id": "161f793d-a429-4183-957a-a154fb79dff6",
   "metadata": {},
   "outputs": [],
   "source": [
    "# Query to create 'exchanges' table"
   ]
  },
  {
   "cell_type": "code",
   "execution_count": 3,
   "id": "9efdaa2f-ee37-4113-8924-7dede8d99f22",
   "metadata": {},
   "outputs": [],
   "source": [
    "# Query to create 'investments' table"
   ]
  },
  {
   "cell_type": "code",
   "execution_count": 4,
   "id": "b1d46c79-0722-4c7c-9dc8-632b16030688",
   "metadata": {},
   "outputs": [],
   "source": [
    "# Query to create 'portfolios' table"
   ]
  },
  {
   "cell_type": "code",
   "execution_count": 5,
   "id": "be7ae5c6-d502-44e1-a6e6-b61be802982d",
   "metadata": {},
   "outputs": [],
   "source": [
    "# Query to create 'assets_portfolios' junction table"
   ]
  },
  {
   "cell_type": "code",
   "execution_count": 6,
   "id": "8014de5c-2228-4f00-935c-6faebc78f008",
   "metadata": {},
   "outputs": [],
   "source": [
    "# Query to insert data into 'assets' table"
   ]
  },
  {
   "cell_type": "code",
   "execution_count": 7,
   "id": "0d36a590-bd18-48cb-a75f-b1e297796de3",
   "metadata": {},
   "outputs": [],
   "source": [
    "# Query to insert data into 'exchanges' table"
   ]
  },
  {
   "cell_type": "code",
   "execution_count": 8,
   "id": "cd491c14-9712-4593-82c5-f97c085bef1e",
   "metadata": {},
   "outputs": [],
   "source": [
    "# Query to insert data into 'investments' table"
   ]
  },
  {
   "cell_type": "code",
   "execution_count": 9,
   "id": "54948d3d-4fc6-4a20-8891-580a4c5144a3",
   "metadata": {},
   "outputs": [],
   "source": [
    "# Query to insert data into 'portfolios' table"
   ]
  },
  {
   "cell_type": "code",
   "execution_count": 10,
   "id": "8cebe2df-3f50-45cd-ac6b-eda56b23044d",
   "metadata": {},
   "outputs": [],
   "source": [
    "# Query to insert data into 'assets_portfolios' junction table"
   ]
  },
  {
   "cell_type": "code",
   "execution_count": null,
   "id": "c3e03305-9f62-40b6-961d-4ed8ddb76003",
   "metadata": {},
   "outputs": [],
   "source": [
    "# Query to drop data from 'exchanges' table"
   ]
  },
  {
   "cell_type": "code",
   "execution_count": 12,
   "id": "ba92caaf-f1b7-444b-a0cb-26516272688f",
   "metadata": {},
   "outputs": [],
   "source": [
    "# Query to drop data from 'portfolios' table"
   ]
  },
  {
   "cell_type": "code",
   "execution_count": 13,
   "id": "679ac42d-b03b-4433-8c55-c7349a2a3618",
   "metadata": {},
   "outputs": [],
   "source": [
    "# Query to drop data from 'assets_portfolios' junction table"
   ]
  },
  {
   "cell_type": "code",
   "execution_count": null,
   "id": "e843c1c9-6eac-43e1-a47b-5b49e096f21b",
   "metadata": {},
   "outputs": [],
   "source": [
    "# Query to select data from 'exchanges' table"
   ]
  },
  {
   "cell_type": "code",
   "execution_count": 14,
   "id": "2fcc8382-c709-498a-8dc3-d0df19cb5ca0",
   "metadata": {
    "tags": []
   },
   "outputs": [],
   "source": [
    "# Query to select data from 'investments' table"
   ]
  },
  {
   "cell_type": "code",
   "execution_count": null,
   "id": "9dec1736-c064-4df5-90eb-9b553879ea55",
   "metadata": {},
   "outputs": [],
   "source": [
    "# Query to select data from 'portfolios'  table"
   ]
  }
 ],
 "metadata": {
  "kernelspec": {
   "display_name": "Python 3 (ipykernel)",
   "language": "python",
   "name": "python3"
  },
  "language_info": {
   "codemirror_mode": {
    "name": "ipython",
    "version": 3
   },
   "file_extension": ".py",
   "mimetype": "text/x-python",
   "name": "python",
   "nbconvert_exporter": "python",
   "pygments_lexer": "ipython3",
   "version": "3.9.16"
  }
 },
 "nbformat": 4,
 "nbformat_minor": 5
}
