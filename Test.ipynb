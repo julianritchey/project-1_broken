{
 "cells": [
  {
   "cell_type": "code",
   "execution_count": null,
   "id": "0167f729-bf2b-465c-9ed6-f2cdba776c56",
   "metadata": {},
   "outputs": [],
   "source": [
    "from flask import Flask, request  # import main Flask class and request object\n",
    "import random\n",
    "app1 = Flask(__name__)  # create the Flask app\n",
    "@app1.route('/status', methods=['GET'])\n",
    "def a_live():\n",
    "    return \"Alive!\"\n",
    "@app1.route('/predict', methods=['GET'])\n",
    "def predict():\n",
    "    demo=random.randint(2000, 5000)    \n",
    "    return str(demo)\n",
    "# app1.run(port=5000)  \n",
    "# run app in debug mode on port 5000"
   ]
  },
  {
   "cell_type": "code",
   "execution_count": null,
   "id": "a4d9bd73-dc8b-4daf-8a39-70edd479f032",
   "metadata": {},
   "outputs": [],
   "source": []
  }
 ],
 "metadata": {
  "kernelspec": {
   "display_name": "Python 3 (ipykernel)",
   "language": "python",
   "name": "python3"
  },
  "language_info": {
   "codemirror_mode": {
    "name": "ipython",
    "version": 3
   },
   "file_extension": ".py",
   "mimetype": "text/x-python",
   "name": "python",
   "nbconvert_exporter": "python",
   "pygments_lexer": "ipython3",
   "version": "3.10.9"
  }
 },
 "nbformat": 4,
 "nbformat_minor": 5
}
