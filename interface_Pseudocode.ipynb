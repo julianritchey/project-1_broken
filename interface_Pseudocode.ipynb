{
 "cells": [
  {
   "cell_type": "markdown",
   "id": "cc379679-43ef-4c5e-9055-67c3a81f0f37",
   "metadata": {},
   "source": [
    "# User Interface"
   ]
  },
  {
   "cell_type": "markdown",
   "id": "bd8f433a-f184-4c1e-b646-dd7f95fae7ea",
   "metadata": {},
   "source": [
    "## User Input: "
   ]
  },
  {
   "cell_type": "markdown",
   "id": "f5f6643a-bf48-46f5-85c4-fd98a6d2657d",
   "metadata": {},
   "source": [
    "### 1) Main Menu<br>\n",
    "Options: <br>\n",
    "a) Historical Investment Data (HID)<br>\n",
    "b) Current Investment Data (CID)<br>\n",
    "c) Portfolio Planner (PP)<br>\n",
    "d) Account Manager (AM)<br>\n"
   ]
  },
  {
   "cell_type": "markdown",
   "id": "52d4d9fc-a7f8-4dda-bd45-d238b319cfee",
   "metadata": {},
   "source": [
    "____________________________________________________________________________________________________"
   ]
  },
  {
   "cell_type": "markdown",
   "id": "c9c1a64f-526d-4c35-8f83-2704d8f1243d",
   "metadata": {},
   "source": [
    "### 2) Portfolio Planner (PP)<br>\n",
    "Options: Analyze the stock (Analyze Stock (Optional)), Create a portfolio of stocks and run the analyses(Create Portfolio), Pull the portfolio (Pull Portfolio)<br>\n",
    "<br>\n",
    "    a)(Optional) Analyze Stock<br>\n",
    "        &nbsp;&nbsp;&nbsp;&nbsp; \"Input the stock ticker\"<br>\n",
    "        &nbsp;&nbsp;&nbsp;&nbsp; \"What is your investment time frame?\"<br>\n",
    "        &nbsp;&nbsp;&nbsp;&nbsp; \"What is you rolling window?<br>\n",
    "        &nbsp;&nbsp;&nbsp;&nbsp; *Run the analyses*<br>\n",
    "        <br>\n",
    "    b) Create Portfolio<br>\n",
    "        &nbsp;&nbsp;&nbsp;&nbsp; \"How would you like to name your portfolio?\"<br>\n",
    "        &nbsp;&nbsp;&nbsp;&nbsp; \"Input the stock ticker\"<br>\n",
    "        &nbsp;&nbsp;&nbsp;&nbsp; \"What is your investment time frame?\"<br>\n",
    "        &nbsp;&nbsp;&nbsp;&nbsp; \"What is you rolling window?<br>\n",
    "        \"Do you want to input more tickers?\" <br>\n",
    "        **\"Yes\"** <br>\n",
    "        &nbsp;&nbsp;&nbsp;&nbsp; \"Input Stock Ticker\"<br>\n",
    "        **\"No\"** <br>\n",
    "        &nbsp;&nbsp;&nbsp;&nbsp; **Display the tickers in the portfolio** <br>\n",
    "        &nbsp;&nbsp;&nbsp;&nbsp; \"How would you like to distribute the weight of your tickers? E.g. 0.2, 0.6, 0.2\" <br>\n",
    "        &nbsp;&nbsp;&nbsp;&nbsp; \"Here is the analyses of your portfolio\"<br>\n",
    "        <br>\n",
    "    c) Pull Portfolio<br>\n",
    "        &nbsp;&nbsp;&nbsp;&nbsp; \"Pulls portfolio from the database\"<br>\n",
    "        <br>\n",
    "\n"
   ]
  },
  {
   "cell_type": "markdown",
   "id": "456209f6-cdae-4b18-93df-2d7b8df4029e",
   "metadata": {},
   "source": [
    "____________________________________________________________________________________________________"
   ]
  },
  {
   "cell_type": "markdown",
   "id": "0e5277ab-ee2b-4a1d-b8ac-1bc54c61ddf1",
   "metadata": {},
   "source": [
    "### 3. What would you like to do? <br>\n",
    "a) Keep the portfolio <br>\n",
    "b) Delete the portfolio  <br>\n",
    "&nbsp;&nbsp;&nbsp;&nbsp; \"Are you sure?\"<br>\n",
    "**\"Yes\"**<br>\n",
    "&nbsp;&nbsp;&nbsp;&nbsp; *Delete the portfolio*<br>\n",
    "**\"No\"**<br>\n",
    "&nbsp;&nbsp;&nbsp;&nbsp; *Go back to step 2*<br>\n",
    "<br>\n",
    "*Go to step 1*\n"
   ]
  },
  {
   "cell_type": "markdown",
   "id": "597dc555-eada-4cf9-9083-26e63185c764",
   "metadata": {},
   "source": [
    "____________________________________________________________________________________________________"
   ]
  },
  {
   "cell_type": "markdown",
   "id": "5503bc81-40b0-4416-816b-82b19c3abd0b",
   "metadata": {},
   "source": [
    "### 2) Portfolio Planner<br>\n",
    "Options: Analyze the stock (Analyze Stock (Optional)), Create a portfolio of stocks and run the analyses(Create Portfolio), Pull the portfolio (Pull Portfolio)<br>\n",
    "<br>\n",
    "    a)(Optional) Analyze Stock<br>\n",
    "        &nbsp;&nbsp;&nbsp;&nbsp; \"Input the stock ticker\"<br>\n",
    "        &nbsp;&nbsp;&nbsp;&nbsp; \"What is your investment time frame?\"<br>\n",
    "        &nbsp;&nbsp;&nbsp;&nbsp; \"What is you rolling window?<br>\n",
    "        &nbsp;&nbsp;&nbsp;&nbsp; *Run the analyses*<br>\n",
    "        <br>\n",
    "    b) Create Portfolio<br>\n",
    "        &nbsp;&nbsp;&nbsp;&nbsp; \"How would you like to name your portfolio?\"<br>\n",
    "        &nbsp;&nbsp;&nbsp;&nbsp; \"Input the stock ticker\"<br>\n",
    "        &nbsp;&nbsp;&nbsp;&nbsp; \"What is your investment time frame?\"<br>\n",
    "        &nbsp;&nbsp;&nbsp;&nbsp; \"What is you rolling window?<br>\n",
    "        \"Do you want to input more tickers?\" <br>\n",
    "        **\"Yes\"** <br>\n",
    "        &nbsp;&nbsp;&nbsp;&nbsp; \"Input Stock Ticker\"<br>\n",
    "        **\"No\"** <br>\n",
    "        &nbsp;&nbsp;&nbsp;&nbsp; **Display the tickers in the portfolio** <br>\n",
    "        &nbsp;&nbsp;&nbsp;&nbsp; \"How would you like to distribute the weight of your tickers? E.g. 0.2, 0.6, 0.2\" <br>\n",
    "        &nbsp;&nbsp;&nbsp;&nbsp; \"Here is the analyses of your portfolio\"<br>\n",
    "        <br>\n",
    "    c) Pull Portfolio<br>\n",
    "        &nbsp;&nbsp;&nbsp;&nbsp; \"Pulls portfolio from the database\"<br>\n",
    "        <br>\n",
    "\n"
   ]
  },
  {
   "cell_type": "markdown",
   "id": "4dd9c2b4-552d-49b2-b37c-a799dca1a03d",
   "metadata": {},
   "source": [
    "____________________________________________________________________________________________________"
   ]
  },
  {
   "cell_type": "code",
   "execution_count": 2,
   "id": "fc18de08-5ca6-44ec-8b9e-ba084bc89570",
   "metadata": {},
   "outputs": [],
   "source": [
    "step = 0 #keeps track which menu you are in\n",
    "main_menu = \"\" ## HID, CID, PP, AM\n",
    "portfolio_planner = \"\" # Analyze Stock, Create Portfolio, Pull Portfolio\n",
    "stock_ticker = \"\" # Any stock ticker that user inputs\n",
    "timeframe = 0 # in years\n",
    "rolling_window = 0 # rolling window of days, expecting 21 or 60\n",
    "portfolio_name = \"\" #Any name of the portfolio\n",
    "portfolio_tickers = [] # List of tickers in the portfolio\n",
    "tickers_count = 0 # how many tickers have been put in the portfolio\n",
    "yes_no = \"No\" # Do you want to put more tickers?\n",
    "weights = [] # List of weights for the portfolio investments\n",
    "portfolio_keep_delete = \"No\" #Does the user want to delete or keep the portfolio? Yes - delete, No - keep\n"
   ]
  },
  {
   "cell_type": "code",
   "execution_count": 1,
   "id": "7384a2d1-9d1e-47cb-ba1d-5fb71e895fdd",
   "metadata": {},
   "outputs": [
    {
     "name": "stdin",
     "output_type": "stream",
     "text": [
      "What would you like to do? Analyze Stock, Create Portfolio, Pull Portfolio ad\n"
     ]
    },
    {
     "name": "stdout",
     "output_type": "stream",
     "text": [
      "ad\n"
     ]
    }
   ],
   "source": [
    "step = 1\n",
    "main_menu= input(\"Which section would you like to go to?\") ## HID, CID, PP, AM \n",
    "if main_menu == \"HID\":\n",
    "    #Go to Historical investments data\n",
    "    step = 2\n",
    "elif main_menu == \"CID\":\n",
    "    #Go to Current Investments Data\n",
    "    step = 3\n",
    "elif main_menu == \"PP\":\n",
    "    #Go to Portfolio Planner\n",
    "    step = 4\n",
    "elif main_menu == \"AM\":\n",
    "    # Go to Account management\n",
    "    step = 5\n",
    "else:\n",
    "    print (\"Sorry, this response is not accepted. Please try again\")\n",
    "    step = 1"
   ]
  },
  {
   "cell_type": "code",
   "execution_count": null,
   "id": "32c076a3-75e3-4a3d-a8f5-f78df988809a",
   "metadata": {},
   "outputs": [],
   "source": []
  }
 ],
 "metadata": {
  "kernelspec": {
   "display_name": "Python 3 (ipykernel)",
   "language": "python",
   "name": "python3"
  },
  "language_info": {
   "codemirror_mode": {
    "name": "ipython",
    "version": 3
   },
   "file_extension": ".py",
   "mimetype": "text/x-python",
   "name": "python",
   "nbconvert_exporter": "python",
   "pygments_lexer": "ipython3",
   "version": "3.10.9"
  }
 },
 "nbformat": 4,
 "nbformat_minor": 5
}
